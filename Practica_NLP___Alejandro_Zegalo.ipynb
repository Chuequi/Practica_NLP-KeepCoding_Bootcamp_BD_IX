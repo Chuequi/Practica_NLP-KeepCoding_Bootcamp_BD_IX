{
  "nbformat": 4,
  "nbformat_minor": 0,
  "metadata": {
    "colab": {
      "name": "Practica_NLP_-_Alejandro_Zegalo",
      "provenance": [],
      "collapsed_sections": [
        "GF54dKOCkhkU"
      ],
      "include_colab_link": true
    },
    "kernelspec": {
      "name": "python3",
      "display_name": "Python 3"
    },
    "language_info": {
      "name": "python"
    },
    "accelerator": "GPU",
    "gpuClass": "standard"
  },
  "cells": [
    {
      "cell_type": "markdown",
      "metadata": {
        "id": "view-in-github",
        "colab_type": "text"
      },
      "source": [
        "<a href=\"https://colab.research.google.com/github/Chuequi/Practica_NLP-KeepCoding_Bootcamp_BD_IX/blob/main/Practica_NLP___Alejandro_Zegalo.ipynb\" target=\"_parent\"><img src=\"https://colab.research.google.com/assets/colab-badge.svg\" alt=\"Open In Colab\"/></a>"
      ]
    },
    {
      "cell_type": "code",
      "source": [
        "\n",
        "%%html\n",
        "<marquee style='width: 30%; color: green;'><b>Bienvenidos a la práctica!</b></marquee>"
      ],
      "metadata": {
        "colab": {
          "base_uri": "https://localhost:8080/",
          "height": 39
        },
        "id": "_xn4pWA-oECN",
        "outputId": "d889ca1a-54d2-4566-c3fb-44e1ea720bb9"
      },
      "execution_count": null,
      "outputs": [
        {
          "output_type": "display_data",
          "data": {
            "text/plain": [
              "<IPython.core.display.HTML object>"
            ],
            "text/html": [
              "<marquee style='width: 30%; color: green;'><b>Bienvenidos a la práctica!</b></marquee>"
            ]
          },
          "metadata": {}
        }
      ]
    },
    {
      "cell_type": "markdown",
      "source": [
        "# **Importamos algunas librerías** "
      ],
      "metadata": {
        "id": "TnZ0Sr2NGslk"
      }
    },
    {
      "cell_type": "code",
      "execution_count": null,
      "metadata": {
        "id": "8BIQkFkzBe6s"
      },
      "outputs": [],
      "source": [
        "import json\n",
        "import pandas as pd\n",
        "import numpy as np\n",
        "\n",
        "from collections import Counter\n",
        "from nltk import ngrams\n",
        "from nltk.probability import FreqDist\n",
        "\n",
        "from gensim.models.word2vec import LineSentence\n",
        "from gensim.models import Word2Vec\n",
        "\n",
        "from sklearn.manifold import TSNE\n",
        "\n",
        "from wordcloud import WordCloud\n",
        "%matplotlib inline"
      ]
    },
    {
      "cell_type": "markdown",
      "source": [
        "# **1.- Descarga y exploración del corpus**"
      ],
      "metadata": {
        "id": "qmYZaTTwGrxs"
      }
    },
    {
      "cell_type": "markdown",
      "source": [
        "## Carga de los Datos"
      ],
      "metadata": {
        "id": "zN571WwnhoTS"
      }
    },
    {
      "cell_type": "markdown",
      "source": [
        "Me gustan los videojuegos, así que descargaré el dataset de videogames"
      ],
      "metadata": {
        "id": "pGH1R2yajmqC"
      }
    },
    {
      "cell_type": "code",
      "source": [
        "! wget http://snap.stanford.edu/data/amazon/productGraph/categoryFiles/reviews_Video_Games_5.json.gz"
      ],
      "metadata": {
        "colab": {
          "base_uri": "https://localhost:8080/"
        },
        "id": "4p9LQ9TETwmk",
        "outputId": "705bc8eb-aa83-4fa1-94b3-5db538e57aeb"
      },
      "execution_count": null,
      "outputs": [
        {
          "output_type": "stream",
          "name": "stdout",
          "text": [
            "--2022-06-30 20:58:40--  http://snap.stanford.edu/data/amazon/productGraph/categoryFiles/reviews_Video_Games_5.json.gz\n",
            "Resolving snap.stanford.edu (snap.stanford.edu)... 171.64.75.80\n",
            "Connecting to snap.stanford.edu (snap.stanford.edu)|171.64.75.80|:80... connected.\n",
            "HTTP request sent, awaiting response... 200 OK\n",
            "Length: 113104579 (108M) [application/x-gzip]\n",
            "Saving to: ‘reviews_Video_Games_5.json.gz’\n",
            "\n",
            "reviews_Video_Games 100%[===================>] 107.86M  14.1MB/s    in 11s     \n",
            "\n",
            "2022-06-30 20:58:51 (9.56 MB/s) - ‘reviews_Video_Games_5.json.gz’ saved [113104579/113104579]\n",
            "\n"
          ]
        }
      ]
    },
    {
      "cell_type": "code",
      "source": [
        "! gunzip -k reviews_Video_Games_5.json.gz"
      ],
      "metadata": {
        "id": "6pfKQJgUWMom"
      },
      "execution_count": null,
      "outputs": []
    },
    {
      "cell_type": "code",
      "source": [
        "! head reviews_Video_Games_5.json"
      ],
      "metadata": {
        "colab": {
          "base_uri": "https://localhost:8080/"
        },
        "id": "mD50ak5SWztl",
        "outputId": "78688bf0-c717-4d6d-c008-b080dada313f"
      },
      "execution_count": null,
      "outputs": [
        {
          "output_type": "stream",
          "name": "stdout",
          "text": [
            "{\"reviewerID\": \"A2HD75EMZR8QLN\", \"asin\": \"0700099867\", \"reviewerName\": \"123\", \"helpful\": [8, 12], \"reviewText\": \"Installing the game was a struggle (because of games for windows live bugs).Some championship races and cars can only be \\\"unlocked\\\" by buying them as an addon to the game. I paid nearly 30 dollars when the game was new. I don't like the idea that I have to keep paying to keep playing.I noticed no improvement in the physics or graphics compared to Dirt 2.I tossed it in the garbage and vowed never to buy another codemasters game. I'm really tired of arcade style rally/racing games anyway.I'll continue to get my fix from Richard Burns Rally, and you should to. :)http://www.amazon.com/Richard-Burns-Rally-PC/dp/B000C97156/ref=sr_1_1?ie=UTF8&qid;=1341886844&sr;=8-1&keywords;=richard+burns+rallyThank you for reading my review! If you enjoyed it, be sure to rate it as helpful.\", \"overall\": 1.0, \"summary\": \"Pay to unlock content? I don't think so.\", \"unixReviewTime\": 1341792000, \"reviewTime\": \"07 9, 2012\"}\n",
            "{\"reviewerID\": \"A3UR8NLLY1ZHCX\", \"asin\": \"0700099867\", \"reviewerName\": \"Alejandro Henao \\\"Electronic Junky\\\"\", \"helpful\": [0, 0], \"reviewText\": \"If you like rally cars get this game you will have fun.It is more oriented to &#34;European market&#34; since here in America there isn't a huge rally fan party. Music it is very European and even the voices from the game very &#34;English&#34; accent.The multiplayer isn't the best but it works just ok.\", \"overall\": 4.0, \"summary\": \"Good rally game\", \"unixReviewTime\": 1372550400, \"reviewTime\": \"06 30, 2013\"}\n",
            "{\"reviewerID\": \"A1INA0F5CWW3J4\", \"asin\": \"0700099867\", \"reviewerName\": \"Amazon Shopper \\\"Mr.Repsol\\\"\", \"helpful\": [0, 0], \"reviewText\": \"1st shipment received a book instead of the game.2nd shipment got a FAKE one. Game arrived with a wrong key inside on sealed box. I got in contact with codemasters and send them pictures of the DVD and the content. They said nothing they can do its a fake DVD.Returned it good bye.!\", \"overall\": 1.0, \"summary\": \"Wrong key\", \"unixReviewTime\": 1403913600, \"reviewTime\": \"06 28, 2014\"}\n",
            "{\"reviewerID\": \"A1DLMTOTHQ4AST\", \"asin\": \"0700099867\", \"reviewerName\": \"ampgreen\", \"helpful\": [7, 10], \"reviewText\": \"I got this version instead of the PS3 version, which turned out to be a mistake. Console versions of games look 95 percent as good as their PC versions, but you do not have to deal with driver issues and the numerous things that can go wrong with windows. First off the installation takes about 30 minutes, which is ridiculous. I have never had a game take this long to load, Shift 2 took about 20 minutes which seemed too long also. Next many of the latest games for PC are forcing you to have an internet connection in order to install the game, regardless of whether you want to play only offline single player games. Shift 2 unleashed is also like this, so be forewarned. Internet requirements are not prominently displayed on the boxes. The game pushes you, but does not require you to, sign up for a Games For Windows Live account, which is required to get the game patches and updates. More time wasted signing up for that. Finally after about one hour the game was up and running , but the menu screen text had red blocky borders, and the sun in the game screens was ugly pink red, with red reflections on the car and everywhere. So more time spent googling to find a solution to this. I had to download a hot-fix driver update for my AMD videocard driver, which solved that red text and sun problem. Finally after nearly 2 hours I was able to play the game, which is perhaps the prettiest racing game I have ever played. Magnificent graphics, and fun excellent gameplay. Good forcefeedback effects with a steering wheel, and excellent sense of speed and immersion, makes this a top notch sim racer with just a hint of arcade feeling to it.I was really, finally enjoying the game , when suddenly about 30 minutes in to a race the game suddenly crashed. No error message or anything, it just hung up and crashed to desktop, under windows 7. I later tried it with Windows XP on the same machine, and it crashed less frequently, usually only when exiting the game, but random crashes really kill the fun of a racing game, since it might not crash during an entire 20 lap race or it might crash on the 2nd lap.It is a great game when it works, and if you are lucky enough to have a machine that it runs stably on then by all means get this game. But hang on to your receipt just in case.I am tired of fiddling with my computer trying to find a totally reliable setup for this game, so I think I am going to buy a copy for my PS3, which has never crashed, in over 3 years of game playing. I have been buying the top notch PC versions of videogames and spent thousands of dollars over the years on faster videocards and cpu's , but I have finally grown tired of fiddling with incompatibilities of hardware and software, and now game publishers demanding that you have an internet connection as well as providing a long serial number, utilizing gigabytes of harddrive space, 30 minute or longer installation times ( it takes less time to install Windows 7 ) , and requiring you to sign up for their online service and game store, and still you have to put that stupid little DVD in your computer everytime you want to play a simple game to relax. I am pretty much done with PC gaming, since the consoles are so much less hassle, and they have \\\" good enough \\\" graphics that the diminishing returns of costly higher resolution better antialiased higher framerate graphics is not worth it. When the PS4 and Xbox 720 come out, I think the law of diminishing returns will be even more evident.\", \"overall\": 3.0, \"summary\": \"awesome game, if it did not crash frequently !!\", \"unixReviewTime\": 1315958400, \"reviewTime\": \"09 14, 2011\"}\n",
            "{\"reviewerID\": \"A361M14PU2GUEG\", \"asin\": \"0700099867\", \"reviewerName\": \"Angry Ryan \\\"Ryan A. Forrest\\\"\", \"helpful\": [2, 2], \"reviewText\": \"I had Dirt 2 on Xbox 360 and it was an okay game. I started playing games on my laptop and bought a few new games to build my collection. This game is very fun to play. It is so much better than Dirt 2. If you like racing games you should check this out. The graphics are perfect on my compter.\", \"overall\": 4.0, \"summary\": \"DIRT 3\", \"unixReviewTime\": 1308009600, \"reviewTime\": \"06 14, 2011\"}\n",
            "{\"reviewerID\": \"A2UTRVO4FDCBH6\", \"asin\": \"0700099867\", \"reviewerName\": \"A.R.G.\", \"helpful\": [0, 0], \"reviewText\": \"Overall this is a well done racing game, with very good graphics for its time period. My family has has enjoyed playing it a great deal. I personally think a steering wheel controller is almost a necessity for this game, but an x box type controller would probably work. The keyboard would be almost impossible, and not very fun. The \\\"windows live\\\" system detracts greatly, since you must log in and be online to play or save game progress. There was a mees up with my \\\"Live\\\" log in and the game would no longer accept my activation code and I had to rebuy the game if I wanted to play. There is no customer support at all. Dirt 2 suffers from this serious flaw as well. 4 1/2 star game 1 star Windows Live feature.\", \"overall\": 4.0, \"summary\": \"Good racing game, terrible Windows Live Requirement\", \"unixReviewTime\": 1368230400, \"reviewTime\": \"05 11, 2013\"}\n",
            "{\"reviewerID\": \"AN3YYDZAS3O1Y\", \"asin\": \"0700099867\", \"reviewerName\": \"Bob\", \"helpful\": [11, 13], \"reviewText\": \"Loved playing Dirt 2 and I thought the graphics were good.  Purchased Dirt 3 as an addition to the other...and the graphics are absolutely \\\"Gorgeous\\\"  If you liked Dirt or Dirt 2...you are going to love Dirt 3.  The game was easier to configure with my Logitech wireless rumblepad...and with my EVGA GTX 580, and all detail set to full on graphics at 1920 x 1080 I get over 100 fps.  The game looks good, plays well and is a blast!\", \"overall\": 5.0, \"summary\": \"A step up from Dirt 2 and that is terrific!\", \"unixReviewTime\": 1313280000, \"reviewTime\": \"08 14, 2011\"}\n",
            "{\"reviewerID\": \"AQTC623NCESZW\", \"asin\": \"0700099867\", \"reviewerName\": \"Chesty Puller\", \"helpful\": [1, 4], \"reviewText\": \"I can't tell you what a piece of dog**** this game is. Like everything else Microsoft makes- it doesn't work. When are they going to take a cue from Apple and make things that actually work the first time and every time. To log onto this game they make you jump through a series of hoops that takes like 15 min. to accomplish. If you want another disappointment from Microsoft, buy some \\\"Games for Windows Live\\\" games.  I just wanted a simple arcade like driving game when I have a young boy visiting. If that's what you want, don't buy this. If you want to hire a consultant to help you run this game, then buy it.  oh, one more thing, every time I do get this game to play my joystick stops working (there's Windows 7 for you)\", \"overall\": 1.0, \"summary\": \"Crash 3 is correct name AKA Microsoft\", \"unixReviewTime\": 1353715200, \"reviewTime\": \"11 24, 2012\"}\n",
            "{\"reviewerID\": \"A1QJJU33VNC4S7\", \"asin\": \"0700099867\", \"reviewerName\": \"D@rkFX\", \"helpful\": [0, 1], \"reviewText\": \"I initially gave this one star because it was crashing on me constantly but I recently narrowed it down to a plug-in I was using for my porsche wheel. Game plays well and looks gorgeous when image spanned across three monitors. I would have given it five stars if it wasn't for the annoying Microsoft Games for Live application that makes you go through hoops to set it up and causes problems of it's own (occasional crashes)\", \"overall\": 4.0, \"summary\": \"A great game ruined by Microsoft's account management system\", \"unixReviewTime\": 1352851200, \"reviewTime\": \"11 14, 2012\"}\n",
            "{\"reviewerID\": \"A2JLT2WY0F2HVI\", \"asin\": \"0700099867\", \"reviewerName\": \"D. Sweetapple\", \"helpful\": [1, 1], \"reviewText\": \"I still haven't figured this one out. Did everything as instructed but the game never installed. Strange. Since I don't like to rate on something I couldn't get to work, I'll just say that I didn't like it because I couldn't get it to work :P For those that did manage to get it installed, I'm sure it's a great game. I had the first Dirt and it was a scream! Too bad this one bombed. Maybe a bad disc...\", \"overall\": 2.0, \"summary\": \"Couldn't get this one to work\", \"unixReviewTime\": 1391817600, \"reviewTime\": \"02 8, 2014\"}\n"
          ]
        }
      ]
    },
    {
      "cell_type": "code",
      "source": [
        "import pandas as pd\n",
        "\n",
        "data = pd.read_json(\"reviews_Video_Games_5.json.gz\", lines=True, compression='gzip')\n",
        "data.head(5)\n"
      ],
      "metadata": {
        "colab": {
          "base_uri": "https://localhost:8080/",
          "height": 206
        },
        "id": "G0Z21P9qWdBZ",
        "outputId": "3907b390-5ba5-4103-9e26-8aa3d0f8264b"
      },
      "execution_count": null,
      "outputs": [
        {
          "output_type": "execute_result",
          "data": {
            "text/plain": [
              "       reviewerID        asin                        reviewerName  helpful  \\\n",
              "0  A2HD75EMZR8QLN  0700099867                                 123  [8, 12]   \n",
              "1  A3UR8NLLY1ZHCX  0700099867  Alejandro Henao \"Electronic Junky\"   [0, 0]   \n",
              "2  A1INA0F5CWW3J4  0700099867          Amazon Shopper \"Mr.Repsol\"   [0, 0]   \n",
              "3  A1DLMTOTHQ4AST  0700099867                            ampgreen  [7, 10]   \n",
              "4  A361M14PU2GUEG  0700099867        Angry Ryan \"Ryan A. Forrest\"   [2, 2]   \n",
              "\n",
              "                                          reviewText  overall  \\\n",
              "0  Installing the game was a struggle (because of...        1   \n",
              "1  If you like rally cars get this game you will ...        4   \n",
              "2  1st shipment received a book instead of the ga...        1   \n",
              "3  I got this version instead of the PS3 version,...        3   \n",
              "4  I had Dirt 2 on Xbox 360 and it was an okay ga...        4   \n",
              "\n",
              "                                           summary  unixReviewTime  \\\n",
              "0         Pay to unlock content? I don't think so.      1341792000   \n",
              "1                                  Good rally game      1372550400   \n",
              "2                                        Wrong key      1403913600   \n",
              "3  awesome game, if it did not crash frequently !!      1315958400   \n",
              "4                                           DIRT 3      1308009600   \n",
              "\n",
              "    reviewTime  \n",
              "0   07 9, 2012  \n",
              "1  06 30, 2013  \n",
              "2  06 28, 2014  \n",
              "3  09 14, 2011  \n",
              "4  06 14, 2011  "
            ],
            "text/html": [
              "\n",
              "  <div id=\"df-c17e57e7-104d-4dbf-b956-6aff3df6cccc\">\n",
              "    <div class=\"colab-df-container\">\n",
              "      <div>\n",
              "<style scoped>\n",
              "    .dataframe tbody tr th:only-of-type {\n",
              "        vertical-align: middle;\n",
              "    }\n",
              "\n",
              "    .dataframe tbody tr th {\n",
              "        vertical-align: top;\n",
              "    }\n",
              "\n",
              "    .dataframe thead th {\n",
              "        text-align: right;\n",
              "    }\n",
              "</style>\n",
              "<table border=\"1\" class=\"dataframe\">\n",
              "  <thead>\n",
              "    <tr style=\"text-align: right;\">\n",
              "      <th></th>\n",
              "      <th>reviewerID</th>\n",
              "      <th>asin</th>\n",
              "      <th>reviewerName</th>\n",
              "      <th>helpful</th>\n",
              "      <th>reviewText</th>\n",
              "      <th>overall</th>\n",
              "      <th>summary</th>\n",
              "      <th>unixReviewTime</th>\n",
              "      <th>reviewTime</th>\n",
              "    </tr>\n",
              "  </thead>\n",
              "  <tbody>\n",
              "    <tr>\n",
              "      <th>0</th>\n",
              "      <td>A2HD75EMZR8QLN</td>\n",
              "      <td>0700099867</td>\n",
              "      <td>123</td>\n",
              "      <td>[8, 12]</td>\n",
              "      <td>Installing the game was a struggle (because of...</td>\n",
              "      <td>1</td>\n",
              "      <td>Pay to unlock content? I don't think so.</td>\n",
              "      <td>1341792000</td>\n",
              "      <td>07 9, 2012</td>\n",
              "    </tr>\n",
              "    <tr>\n",
              "      <th>1</th>\n",
              "      <td>A3UR8NLLY1ZHCX</td>\n",
              "      <td>0700099867</td>\n",
              "      <td>Alejandro Henao \"Electronic Junky\"</td>\n",
              "      <td>[0, 0]</td>\n",
              "      <td>If you like rally cars get this game you will ...</td>\n",
              "      <td>4</td>\n",
              "      <td>Good rally game</td>\n",
              "      <td>1372550400</td>\n",
              "      <td>06 30, 2013</td>\n",
              "    </tr>\n",
              "    <tr>\n",
              "      <th>2</th>\n",
              "      <td>A1INA0F5CWW3J4</td>\n",
              "      <td>0700099867</td>\n",
              "      <td>Amazon Shopper \"Mr.Repsol\"</td>\n",
              "      <td>[0, 0]</td>\n",
              "      <td>1st shipment received a book instead of the ga...</td>\n",
              "      <td>1</td>\n",
              "      <td>Wrong key</td>\n",
              "      <td>1403913600</td>\n",
              "      <td>06 28, 2014</td>\n",
              "    </tr>\n",
              "    <tr>\n",
              "      <th>3</th>\n",
              "      <td>A1DLMTOTHQ4AST</td>\n",
              "      <td>0700099867</td>\n",
              "      <td>ampgreen</td>\n",
              "      <td>[7, 10]</td>\n",
              "      <td>I got this version instead of the PS3 version,...</td>\n",
              "      <td>3</td>\n",
              "      <td>awesome game, if it did not crash frequently !!</td>\n",
              "      <td>1315958400</td>\n",
              "      <td>09 14, 2011</td>\n",
              "    </tr>\n",
              "    <tr>\n",
              "      <th>4</th>\n",
              "      <td>A361M14PU2GUEG</td>\n",
              "      <td>0700099867</td>\n",
              "      <td>Angry Ryan \"Ryan A. Forrest\"</td>\n",
              "      <td>[2, 2]</td>\n",
              "      <td>I had Dirt 2 on Xbox 360 and it was an okay ga...</td>\n",
              "      <td>4</td>\n",
              "      <td>DIRT 3</td>\n",
              "      <td>1308009600</td>\n",
              "      <td>06 14, 2011</td>\n",
              "    </tr>\n",
              "  </tbody>\n",
              "</table>\n",
              "</div>\n",
              "      <button class=\"colab-df-convert\" onclick=\"convertToInteractive('df-c17e57e7-104d-4dbf-b956-6aff3df6cccc')\"\n",
              "              title=\"Convert this dataframe to an interactive table.\"\n",
              "              style=\"display:none;\">\n",
              "        \n",
              "  <svg xmlns=\"http://www.w3.org/2000/svg\" height=\"24px\"viewBox=\"0 0 24 24\"\n",
              "       width=\"24px\">\n",
              "    <path d=\"M0 0h24v24H0V0z\" fill=\"none\"/>\n",
              "    <path d=\"M18.56 5.44l.94 2.06.94-2.06 2.06-.94-2.06-.94-.94-2.06-.94 2.06-2.06.94zm-11 1L8.5 8.5l.94-2.06 2.06-.94-2.06-.94L8.5 2.5l-.94 2.06-2.06.94zm10 10l.94 2.06.94-2.06 2.06-.94-2.06-.94-.94-2.06-.94 2.06-2.06.94z\"/><path d=\"M17.41 7.96l-1.37-1.37c-.4-.4-.92-.59-1.43-.59-.52 0-1.04.2-1.43.59L10.3 9.45l-7.72 7.72c-.78.78-.78 2.05 0 2.83L4 21.41c.39.39.9.59 1.41.59.51 0 1.02-.2 1.41-.59l7.78-7.78 2.81-2.81c.8-.78.8-2.07 0-2.86zM5.41 20L4 18.59l7.72-7.72 1.47 1.35L5.41 20z\"/>\n",
              "  </svg>\n",
              "      </button>\n",
              "      \n",
              "  <style>\n",
              "    .colab-df-container {\n",
              "      display:flex;\n",
              "      flex-wrap:wrap;\n",
              "      gap: 12px;\n",
              "    }\n",
              "\n",
              "    .colab-df-convert {\n",
              "      background-color: #E8F0FE;\n",
              "      border: none;\n",
              "      border-radius: 50%;\n",
              "      cursor: pointer;\n",
              "      display: none;\n",
              "      fill: #1967D2;\n",
              "      height: 32px;\n",
              "      padding: 0 0 0 0;\n",
              "      width: 32px;\n",
              "    }\n",
              "\n",
              "    .colab-df-convert:hover {\n",
              "      background-color: #E2EBFA;\n",
              "      box-shadow: 0px 1px 2px rgba(60, 64, 67, 0.3), 0px 1px 3px 1px rgba(60, 64, 67, 0.15);\n",
              "      fill: #174EA6;\n",
              "    }\n",
              "\n",
              "    [theme=dark] .colab-df-convert {\n",
              "      background-color: #3B4455;\n",
              "      fill: #D2E3FC;\n",
              "    }\n",
              "\n",
              "    [theme=dark] .colab-df-convert:hover {\n",
              "      background-color: #434B5C;\n",
              "      box-shadow: 0px 1px 3px 1px rgba(0, 0, 0, 0.15);\n",
              "      filter: drop-shadow(0px 1px 2px rgba(0, 0, 0, 0.3));\n",
              "      fill: #FFFFFF;\n",
              "    }\n",
              "  </style>\n",
              "\n",
              "      <script>\n",
              "        const buttonEl =\n",
              "          document.querySelector('#df-c17e57e7-104d-4dbf-b956-6aff3df6cccc button.colab-df-convert');\n",
              "        buttonEl.style.display =\n",
              "          google.colab.kernel.accessAllowed ? 'block' : 'none';\n",
              "\n",
              "        async function convertToInteractive(key) {\n",
              "          const element = document.querySelector('#df-c17e57e7-104d-4dbf-b956-6aff3df6cccc');\n",
              "          const dataTable =\n",
              "            await google.colab.kernel.invokeFunction('convertToInteractive',\n",
              "                                                     [key], {});\n",
              "          if (!dataTable) return;\n",
              "\n",
              "          const docLinkHtml = 'Like what you see? Visit the ' +\n",
              "            '<a target=\"_blank\" href=https://colab.research.google.com/notebooks/data_table.ipynb>data table notebook</a>'\n",
              "            + ' to learn more about interactive tables.';\n",
              "          element.innerHTML = '';\n",
              "          dataTable['output_type'] = 'display_data';\n",
              "          await google.colab.output.renderOutput(dataTable, element);\n",
              "          const docLink = document.createElement('div');\n",
              "          docLink.innerHTML = docLinkHtml;\n",
              "          element.appendChild(docLink);\n",
              "        }\n",
              "      </script>\n",
              "    </div>\n",
              "  </div>\n",
              "  "
            ]
          },
          "metadata": {},
          "execution_count": 9
        }
      ]
    },
    {
      "cell_type": "code",
      "source": [
        "data.shape"
      ],
      "metadata": {
        "colab": {
          "base_uri": "https://localhost:8080/"
        },
        "id": "7Cp2Fsy0Rknf",
        "outputId": "7d44f42a-36fb-47cd-84e2-34222aa15966"
      },
      "execution_count": null,
      "outputs": [
        {
          "output_type": "execute_result",
          "data": {
            "text/plain": [
              "(231780, 9)"
            ]
          },
          "metadata": {},
          "execution_count": 11
        }
      ]
    },
    {
      "cell_type": "markdown",
      "source": [
        "Vamos a tomar un subset de los datos para que no nos reviente la RAM"
      ],
      "metadata": {
        "id": "x_y6OfT8PpaV"
      }
    },
    {
      "cell_type": "code",
      "source": [
        "from IPython.display import Image\n",
        "Image(url='https://i.gifer.com/kET.gif')"
      ],
      "metadata": {
        "colab": {
          "base_uri": "https://localhost:8080/",
          "height": 293
        },
        "id": "LnKNt5HUpgPV",
        "outputId": "e5c84ad6-4cf8-49c5-bd3a-c4e3b0859637"
      },
      "execution_count": null,
      "outputs": [
        {
          "output_type": "execute_result",
          "data": {
            "text/plain": [
              "<IPython.core.display.Image object>"
            ],
            "text/html": [
              "<img src=\"https://i.gifer.com/kET.gif\"/>"
            ]
          },
          "metadata": {},
          "execution_count": 13
        }
      ]
    },
    {
      "cell_type": "markdown",
      "source": [
        "Conozco las columnas de los datasets"
      ],
      "metadata": {
        "id": "t3aVgSTMdAhB"
      }
    },
    {
      "cell_type": "code",
      "source": [
        "data = data[:5000]\n",
        "# Data_Cells = Data_Cells.iloc[0:6000]"
      ],
      "metadata": {
        "id": "d8WKwRIhxX-6"
      },
      "execution_count": null,
      "outputs": []
    },
    {
      "cell_type": "code",
      "source": [
        "data.columns"
      ],
      "metadata": {
        "colab": {
          "base_uri": "https://localhost:8080/"
        },
        "id": "_FzyOhglXQvs",
        "outputId": "b494e83d-d578-44c4-b1fc-0f6f8872b746"
      },
      "execution_count": null,
      "outputs": [
        {
          "output_type": "execute_result",
          "data": {
            "text/plain": [
              "Index(['reviewerID', 'asin', 'reviewerName', 'helpful', 'reviewText',\n",
              "       'overall', 'summary', 'unixReviewTime', 'reviewTime'],\n",
              "      dtype='object')"
            ]
          },
          "metadata": {},
          "execution_count": 15
        }
      ]
    },
    {
      "cell_type": "markdown",
      "source": [
        "Concateno los 2 dataset para formar 1"
      ],
      "metadata": {
        "id": "dVUVdqQLSs9o"
      }
    },
    {
      "cell_type": "code",
      "source": [
        "# Me quedo solo con las columnas de texto de las reviews y el número de estrellas\n",
        "\n",
        "data = data[['reviewText','overall']]\n",
        "data.head(10)"
      ],
      "metadata": {
        "colab": {
          "base_uri": "https://localhost:8080/",
          "height": 363
        },
        "id": "Y-sQ6AagY4OH",
        "outputId": "51fc22f0-c232-4654-a56c-898365225ff3"
      },
      "execution_count": null,
      "outputs": [
        {
          "output_type": "execute_result",
          "data": {
            "text/plain": [
              "                                          reviewText  overall\n",
              "0  Installing the game was a struggle (because of...        1\n",
              "1  If you like rally cars get this game you will ...        4\n",
              "2  1st shipment received a book instead of the ga...        1\n",
              "3  I got this version instead of the PS3 version,...        3\n",
              "4  I had Dirt 2 on Xbox 360 and it was an okay ga...        4\n",
              "5  Overall this is a well done racing game, with ...        4\n",
              "6  Loved playing Dirt 2 and I thought the graphic...        5\n",
              "7  I can't tell you what a piece of dog**** this ...        1\n",
              "8  I initially gave this one star because it was ...        4\n",
              "9  I still haven't figured this one out. Did ever...        2"
            ],
            "text/html": [
              "\n",
              "  <div id=\"df-cd1e7f9a-7ab4-474b-9e62-74ae0257a707\">\n",
              "    <div class=\"colab-df-container\">\n",
              "      <div>\n",
              "<style scoped>\n",
              "    .dataframe tbody tr th:only-of-type {\n",
              "        vertical-align: middle;\n",
              "    }\n",
              "\n",
              "    .dataframe tbody tr th {\n",
              "        vertical-align: top;\n",
              "    }\n",
              "\n",
              "    .dataframe thead th {\n",
              "        text-align: right;\n",
              "    }\n",
              "</style>\n",
              "<table border=\"1\" class=\"dataframe\">\n",
              "  <thead>\n",
              "    <tr style=\"text-align: right;\">\n",
              "      <th></th>\n",
              "      <th>reviewText</th>\n",
              "      <th>overall</th>\n",
              "    </tr>\n",
              "  </thead>\n",
              "  <tbody>\n",
              "    <tr>\n",
              "      <th>0</th>\n",
              "      <td>Installing the game was a struggle (because of...</td>\n",
              "      <td>1</td>\n",
              "    </tr>\n",
              "    <tr>\n",
              "      <th>1</th>\n",
              "      <td>If you like rally cars get this game you will ...</td>\n",
              "      <td>4</td>\n",
              "    </tr>\n",
              "    <tr>\n",
              "      <th>2</th>\n",
              "      <td>1st shipment received a book instead of the ga...</td>\n",
              "      <td>1</td>\n",
              "    </tr>\n",
              "    <tr>\n",
              "      <th>3</th>\n",
              "      <td>I got this version instead of the PS3 version,...</td>\n",
              "      <td>3</td>\n",
              "    </tr>\n",
              "    <tr>\n",
              "      <th>4</th>\n",
              "      <td>I had Dirt 2 on Xbox 360 and it was an okay ga...</td>\n",
              "      <td>4</td>\n",
              "    </tr>\n",
              "    <tr>\n",
              "      <th>5</th>\n",
              "      <td>Overall this is a well done racing game, with ...</td>\n",
              "      <td>4</td>\n",
              "    </tr>\n",
              "    <tr>\n",
              "      <th>6</th>\n",
              "      <td>Loved playing Dirt 2 and I thought the graphic...</td>\n",
              "      <td>5</td>\n",
              "    </tr>\n",
              "    <tr>\n",
              "      <th>7</th>\n",
              "      <td>I can't tell you what a piece of dog**** this ...</td>\n",
              "      <td>1</td>\n",
              "    </tr>\n",
              "    <tr>\n",
              "      <th>8</th>\n",
              "      <td>I initially gave this one star because it was ...</td>\n",
              "      <td>4</td>\n",
              "    </tr>\n",
              "    <tr>\n",
              "      <th>9</th>\n",
              "      <td>I still haven't figured this one out. Did ever...</td>\n",
              "      <td>2</td>\n",
              "    </tr>\n",
              "  </tbody>\n",
              "</table>\n",
              "</div>\n",
              "      <button class=\"colab-df-convert\" onclick=\"convertToInteractive('df-cd1e7f9a-7ab4-474b-9e62-74ae0257a707')\"\n",
              "              title=\"Convert this dataframe to an interactive table.\"\n",
              "              style=\"display:none;\">\n",
              "        \n",
              "  <svg xmlns=\"http://www.w3.org/2000/svg\" height=\"24px\"viewBox=\"0 0 24 24\"\n",
              "       width=\"24px\">\n",
              "    <path d=\"M0 0h24v24H0V0z\" fill=\"none\"/>\n",
              "    <path d=\"M18.56 5.44l.94 2.06.94-2.06 2.06-.94-2.06-.94-.94-2.06-.94 2.06-2.06.94zm-11 1L8.5 8.5l.94-2.06 2.06-.94-2.06-.94L8.5 2.5l-.94 2.06-2.06.94zm10 10l.94 2.06.94-2.06 2.06-.94-2.06-.94-.94-2.06-.94 2.06-2.06.94z\"/><path d=\"M17.41 7.96l-1.37-1.37c-.4-.4-.92-.59-1.43-.59-.52 0-1.04.2-1.43.59L10.3 9.45l-7.72 7.72c-.78.78-.78 2.05 0 2.83L4 21.41c.39.39.9.59 1.41.59.51 0 1.02-.2 1.41-.59l7.78-7.78 2.81-2.81c.8-.78.8-2.07 0-2.86zM5.41 20L4 18.59l7.72-7.72 1.47 1.35L5.41 20z\"/>\n",
              "  </svg>\n",
              "      </button>\n",
              "      \n",
              "  <style>\n",
              "    .colab-df-container {\n",
              "      display:flex;\n",
              "      flex-wrap:wrap;\n",
              "      gap: 12px;\n",
              "    }\n",
              "\n",
              "    .colab-df-convert {\n",
              "      background-color: #E8F0FE;\n",
              "      border: none;\n",
              "      border-radius: 50%;\n",
              "      cursor: pointer;\n",
              "      display: none;\n",
              "      fill: #1967D2;\n",
              "      height: 32px;\n",
              "      padding: 0 0 0 0;\n",
              "      width: 32px;\n",
              "    }\n",
              "\n",
              "    .colab-df-convert:hover {\n",
              "      background-color: #E2EBFA;\n",
              "      box-shadow: 0px 1px 2px rgba(60, 64, 67, 0.3), 0px 1px 3px 1px rgba(60, 64, 67, 0.15);\n",
              "      fill: #174EA6;\n",
              "    }\n",
              "\n",
              "    [theme=dark] .colab-df-convert {\n",
              "      background-color: #3B4455;\n",
              "      fill: #D2E3FC;\n",
              "    }\n",
              "\n",
              "    [theme=dark] .colab-df-convert:hover {\n",
              "      background-color: #434B5C;\n",
              "      box-shadow: 0px 1px 3px 1px rgba(0, 0, 0, 0.15);\n",
              "      filter: drop-shadow(0px 1px 2px rgba(0, 0, 0, 0.3));\n",
              "      fill: #FFFFFF;\n",
              "    }\n",
              "  </style>\n",
              "\n",
              "      <script>\n",
              "        const buttonEl =\n",
              "          document.querySelector('#df-cd1e7f9a-7ab4-474b-9e62-74ae0257a707 button.colab-df-convert');\n",
              "        buttonEl.style.display =\n",
              "          google.colab.kernel.accessAllowed ? 'block' : 'none';\n",
              "\n",
              "        async function convertToInteractive(key) {\n",
              "          const element = document.querySelector('#df-cd1e7f9a-7ab4-474b-9e62-74ae0257a707');\n",
              "          const dataTable =\n",
              "            await google.colab.kernel.invokeFunction('convertToInteractive',\n",
              "                                                     [key], {});\n",
              "          if (!dataTable) return;\n",
              "\n",
              "          const docLinkHtml = 'Like what you see? Visit the ' +\n",
              "            '<a target=\"_blank\" href=https://colab.research.google.com/notebooks/data_table.ipynb>data table notebook</a>'\n",
              "            + ' to learn more about interactive tables.';\n",
              "          element.innerHTML = '';\n",
              "          dataTable['output_type'] = 'display_data';\n",
              "          await google.colab.output.renderOutput(dataTable, element);\n",
              "          const docLink = document.createElement('div');\n",
              "          docLink.innerHTML = docLinkHtml;\n",
              "          element.appendChild(docLink);\n",
              "        }\n",
              "      </script>\n",
              "    </div>\n",
              "  </div>\n",
              "  "
            ]
          },
          "metadata": {},
          "execution_count": 18
        }
      ]
    },
    {
      "cell_type": "code",
      "source": [
        "data.shape"
      ],
      "metadata": {
        "colab": {
          "base_uri": "https://localhost:8080/"
        },
        "id": "_A7hsJn-JluC",
        "outputId": "738e9394-3582-446e-f0be-ba0b7ca19621"
      },
      "execution_count": null,
      "outputs": [
        {
          "output_type": "execute_result",
          "data": {
            "text/plain": [
              "(5000, 2)"
            ]
          },
          "metadata": {},
          "execution_count": 19
        }
      ]
    },
    {
      "cell_type": "markdown",
      "source": [
        "**En teoría no debería haber datos faltantes, pero por las dudas comprobemos**"
      ],
      "metadata": {
        "id": "Y8mZ1M3Eqb07"
      }
    },
    {
      "cell_type": "code",
      "source": [
        "data.isnull().any()"
      ],
      "metadata": {
        "colab": {
          "base_uri": "https://localhost:8080/"
        },
        "id": "qvktiK9QT1bV",
        "outputId": "8306a617-5204-4581-ced9-1ba9c71811ad"
      },
      "execution_count": null,
      "outputs": [
        {
          "output_type": "execute_result",
          "data": {
            "text/plain": [
              "reviewText    False\n",
              "overall       False\n",
              "dtype: bool"
            ]
          },
          "metadata": {},
          "execution_count": 20
        }
      ]
    },
    {
      "cell_type": "code",
      "source": [
        "data.isna().sum()"
      ],
      "metadata": {
        "colab": {
          "base_uri": "https://localhost:8080/"
        },
        "id": "Ko_7PQwUUUpD",
        "outputId": "b69790ee-7291-486e-fbaa-447fcd5679ae"
      },
      "execution_count": null,
      "outputs": [
        {
          "output_type": "execute_result",
          "data": {
            "text/plain": [
              "reviewText    0\n",
              "overall       0\n",
              "dtype: int64"
            ]
          },
          "metadata": {},
          "execution_count": 21
        }
      ]
    },
    {
      "cell_type": "code",
      "source": [
        "data.info()"
      ],
      "metadata": {
        "colab": {
          "base_uri": "https://localhost:8080/"
        },
        "id": "4bunZ0nwUhs9",
        "outputId": "d8264ae4-d84d-4a26-ac3f-a775be34fb88"
      },
      "execution_count": null,
      "outputs": [
        {
          "output_type": "stream",
          "name": "stdout",
          "text": [
            "<class 'pandas.core.frame.DataFrame'>\n",
            "RangeIndex: 5000 entries, 0 to 4999\n",
            "Data columns (total 2 columns):\n",
            " #   Column      Non-Null Count  Dtype \n",
            "---  ------      --------------  ----- \n",
            " 0   reviewText  5000 non-null   object\n",
            " 1   overall     5000 non-null   int64 \n",
            "dtypes: int64(1), object(1)\n",
            "memory usage: 78.2+ KB\n"
          ]
        }
      ]
    },
    {
      "cell_type": "markdown",
      "source": [
        "# Cardinalidad del vocabulario\n"
      ],
      "metadata": {
        "id": "_glulymlCc7W"
      }
    },
    {
      "cell_type": "code",
      "source": [
        "data = data.sample(frac=1).reset_index(drop=True)"
      ],
      "metadata": {
        "id": "Bpxmn_VXkAhb"
      },
      "execution_count": null,
      "outputs": []
    },
    {
      "cell_type": "code",
      "source": [
        "from collections import Counter\n",
        "import matplotlib.pyplot as plt\n",
        "\n",
        "total_palabras = []\n",
        "for i in data.index:\n",
        "  total_palabras.append(data['reviewText'][i])\n",
        "words_str = str(total_palabras)\n",
        "words = words_str.lower().split()\n",
        "cont = Counter(words)\n",
        "print(\"Tenemos {} tokens en nuestro dataset\".format(len(cont)))"
      ],
      "metadata": {
        "id": "X89UfNLHDRxA",
        "colab": {
          "base_uri": "https://localhost:8080/"
        },
        "outputId": "56d22916-0fd1-4587-de7d-49cf8b715cfb"
      },
      "execution_count": null,
      "outputs": [
        {
          "output_type": "stream",
          "name": "stdout",
          "text": [
            "Tenemos 67824 tokens en nuestro dataset\n"
          ]
        }
      ]
    },
    {
      "cell_type": "code",
      "source": [
        "most_common = cont.most_common(10)\n",
        "most_common"
      ],
      "metadata": {
        "id": "B5fIk7kkFyib",
        "colab": {
          "base_uri": "https://localhost:8080/"
        },
        "outputId": "746e9826-a961-4573-9fbb-5a3a6e4345a8"
      },
      "execution_count": null,
      "outputs": [
        {
          "output_type": "execute_result",
          "data": {
            "text/plain": [
              "[('the', 53084),\n",
              " ('and', 27408),\n",
              " ('to', 23924),\n",
              " ('a', 23391),\n",
              " ('of', 20122),\n",
              " ('is', 17831),\n",
              " ('you', 17056),\n",
              " ('i', 13513),\n",
              " ('game', 13456),\n",
              " ('it', 12515)]"
            ]
          },
          "metadata": {},
          "execution_count": 25
        }
      ]
    },
    {
      "cell_type": "code",
      "source": [
        "words_common = [w[0] for w in most_common]\n",
        "freq = [w[1] for w in most_common]"
      ],
      "metadata": {
        "id": "b7FWDik4gy3t"
      },
      "execution_count": null,
      "outputs": []
    },
    {
      "cell_type": "code",
      "source": [
        "freq, words_common = zip(*sorted(zip(freq, words_common)))"
      ],
      "metadata": {
        "id": "gVHVoWbahZlB"
      },
      "execution_count": null,
      "outputs": []
    },
    {
      "cell_type": "code",
      "source": [
        "import matplotlib.pyplot as plt\n",
        "import matplotlib.cm as cm\n",
        "\n",
        "plt.barh(words_common, freq)\n",
        "plt.show()"
      ],
      "metadata": {
        "colab": {
          "base_uri": "https://localhost:8080/",
          "height": 265
        },
        "id": "c3rPL_nghdIQ",
        "outputId": "8d7865ae-f062-4b95-c835-7f653644157f"
      },
      "execution_count": null,
      "outputs": [
        {
          "output_type": "display_data",
          "data": {
            "text/plain": [
              "<Figure size 432x288 with 1 Axes>"
            ],
            "image/png": "[encoded data removed]"
          },
          "metadata": {
            "needs_background": "light"
          }
        }
      ]
    },
    {
      "cell_type": "markdown",
      "source": [
        "**Obviamente, las palabras con más frecuencia son stopwords**"
      ],
      "metadata": {
        "id": "880plcU1R3UR"
      }
    },
    {
      "cell_type": "code",
      "source": [
        "!pip install stop_words"
      ],
      "metadata": {
        "colab": {
          "base_uri": "https://localhost:8080/"
        },
        "id": "l-3gsriAlwVY",
        "outputId": "3caa0b7f-d2c4-4af0-a961-cd6f099ff314"
      },
      "execution_count": null,
      "outputs": [
        {
          "output_type": "stream",
          "name": "stdout",
          "text": [
            "Looking in indexes: https://pypi.org/simple, https://us-python.pkg.dev/colab-wheels/public/simple/\n",
            "Collecting stop_words\n",
            "  Downloading stop-words-2018.7.23.tar.gz (31 kB)\n",
            "Building wheels for collected packages: stop-words\n",
            "  Building wheel for stop-words (setup.py) ... \u001b[?25l\u001b[?25hdone\n",
            "  Created wheel for stop-words: filename=stop_words-2018.7.23-py3-none-any.whl size=32911 sha256=ed5385db697087685130701b117967518f6e79f994881a7c26f296363d753879\n",
            "  Stored in directory: /root/.cache/pip/wheels/fb/86/b2/277b10b1ce9f73ce15059bf6975d4547cc4ec3feeb651978e9\n",
            "Successfully built stop-words\n",
            "Installing collected packages: stop-words\n",
            "Successfully installed stop-words-2018.7.23\n"
          ]
        }
      ]
    },
    {
      "cell_type": "code",
      "source": [
        "from stop_words import get_stop_words\n",
        "\n",
        "sw = get_stop_words(language=\"en\")\n",
        "sw[:10]"
      ],
      "metadata": {
        "id": "YsyZLzW8rIXU",
        "colab": {
          "base_uri": "https://localhost:8080/"
        },
        "outputId": "c845d725-a4f9-4e70-b25e-d5d2aadf1a4f"
      },
      "execution_count": null,
      "outputs": [
        {
          "output_type": "execute_result",
          "data": {
            "text/plain": [
              "['a', 'about', 'above', 'after', 'again', 'against', 'all', 'am', 'an', 'and']"
            ]
          },
          "metadata": {},
          "execution_count": 30
        }
      ]
    },
    {
      "cell_type": "code",
      "source": [
        "words_clean = [ word for word in words if word not in sw ]  "
      ],
      "metadata": {
        "id": "QprvRaqBoYtZ"
      },
      "execution_count": null,
      "outputs": []
    },
    {
      "cell_type": "code",
      "source": [
        "words_clean_cont = Counter(words_clean)\n",
        "words_clean_common = words_clean_cont.most_common(10)\n",
        "words_clean_common"
      ],
      "metadata": {
        "colab": {
          "base_uri": "https://localhost:8080/"
        },
        "id": "97aA3E33oLie",
        "outputId": "19be511f-a754-4f29-c377-544f2401ff8e"
      },
      "execution_count": null,
      "outputs": [
        {
          "output_type": "execute_result",
          "data": {
            "text/plain": [
              "[('game', 13456),\n",
              " ('can', 4344),\n",
              " ('one', 3873),\n",
              " ('like', 3823),\n",
              " ('get', 3510),\n",
              " ('just', 3255),\n",
              " ('games', 3235),\n",
              " ('will', 2789),\n",
              " ('play', 2663),\n",
              " ('great', 2191)]"
            ]
          },
          "metadata": {},
          "execution_count": 32
        }
      ]
    },
    {
      "cell_type": "markdown",
      "source": [
        "**Claramente, la palabra más común en un dataset de reviews de juegos es \"game\"**"
      ],
      "metadata": {
        "id": "30snC8wY0Xol"
      }
    },
    {
      "cell_type": "code",
      "source": [
        "words_clean_common_graph = [x[0] for x in words_clean_common]\n",
        "freq_clean = [x[1] for x in words_clean_common]"
      ],
      "metadata": {
        "id": "L6Aapq7Lnj5l"
      },
      "execution_count": null,
      "outputs": []
    },
    {
      "cell_type": "code",
      "source": [
        "freq_clean, words_clean_common_graph = zip(*sorted(zip(freq_clean, words_clean_common_graph)))"
      ],
      "metadata": {
        "id": "vMIsw4ZxqV3l"
      },
      "execution_count": null,
      "outputs": []
    },
    {
      "cell_type": "code",
      "source": [
        "plt.barh(words_clean_common_graph, freq_clean)\n",
        "plt.show()"
      ],
      "metadata": {
        "colab": {
          "base_uri": "https://localhost:8080/",
          "height": 265
        },
        "id": "V3ps_cRiV7AH",
        "outputId": "95c8603b-b535-44b0-89e2-b6e476f7bfcf"
      },
      "execution_count": null,
      "outputs": [
        {
          "output_type": "display_data",
          "data": {
            "text/plain": [
              "<Figure size 432x288 with 1 Axes>"
            ],
            "image/png": "[encoded data removed]"
          },
          "metadata": {
            "needs_background": "light"
          }
        }
      ]
    },
    {
      "cell_type": "markdown",
      "source": [
        "# Distribución de reviews por número de estrellas"
      ],
      "metadata": {
        "id": "HXCFRGwyCkqF"
      }
    },
    {
      "cell_type": "code",
      "source": [
        "frequency = data.groupby(['overall']).count()\n",
        "print(frequency)"
      ],
      "metadata": {
        "colab": {
          "base_uri": "https://localhost:8080/"
        },
        "id": "FUeug8saq6il",
        "outputId": "992465d8-870e-4112-92fd-25c7a41dc6c1"
      },
      "execution_count": null,
      "outputs": [
        {
          "output_type": "stream",
          "name": "stdout",
          "text": [
            "         reviewText\n",
            "overall            \n",
            "1               203\n",
            "2               219\n",
            "3               472\n",
            "4              1066\n",
            "5              3040\n"
          ]
        }
      ]
    },
    {
      "cell_type": "code",
      "source": [
        "frequency.plot(kind='bar', title='N° Reviews - Puntaje')"
      ],
      "metadata": {
        "colab": {
          "base_uri": "https://localhost:8080/",
          "height": 309
        },
        "id": "h27ahLO4rJ9x",
        "outputId": "f9de422d-336c-4fd2-f5cc-497c94e566f8"
      },
      "execution_count": null,
      "outputs": [
        {
          "output_type": "execute_result",
          "data": {
            "text/plain": [
              "<matplotlib.axes._subplots.AxesSubplot at 0x7eff8a58a250>"
            ]
          },
          "metadata": {},
          "execution_count": 37
        },
        {
          "output_type": "display_data",
          "data": {
            "text/plain": [
              "<Figure size 432x288 with 1 Axes>"
            ],
            "image/png": "[encoded data removed]"
          },
          "metadata": {
            "needs_background": "light"
          }
        }
      ]
    },
    {
      "cell_type": "markdown",
      "source": [
        "Muchos juegos buenos, deben ser reviews viejas porque los últimos juegos vienen saliendo bastante malos"
      ],
      "metadata": {
        "id": "_Q1LImVzF9pt"
      }
    },
    {
      "cell_type": "markdown",
      "source": [
        "# Nº de reviews positivas y negativas\n"
      ],
      "metadata": {
        "id": "JayG7cvyCqGu"
      }
    },
    {
      "cell_type": "markdown",
      "source": [
        "Clasificamos Overall (Valoraciones)\n",
        "\n",
        "**Negativas** (0): 1,2 y 3 estrellas\n",
        "**Positivas** (1): 4 y 5 estrellas"
      ],
      "metadata": {
        "id": "xlBN25gxBD9Z"
      }
    },
    {
      "cell_type": "code",
      "source": [
        "set(data['overall'])"
      ],
      "metadata": {
        "colab": {
          "base_uri": "https://localhost:8080/"
        },
        "id": "TH6Mw60bXN0n",
        "outputId": "adbbedf9-da41-4d1a-c4de-e2d6e7679ac6"
      },
      "execution_count": null,
      "outputs": [
        {
          "output_type": "execute_result",
          "data": {
            "text/plain": [
              "{1, 2, 3, 4, 5}"
            ]
          },
          "metadata": {},
          "execution_count": 38
        }
      ]
    },
    {
      "cell_type": "code",
      "source": [
        "data.head(5)"
      ],
      "metadata": {
        "colab": {
          "base_uri": "https://localhost:8080/",
          "height": 206
        },
        "id": "G7kbnrE5iEo5",
        "outputId": "f179b00e-3d1c-4b18-91e6-ee6d6ebfe843"
      },
      "execution_count": null,
      "outputs": [
        {
          "output_type": "execute_result",
          "data": {
            "text/plain": [
              "                                          reviewText  overall\n",
              "0  I bought this game back in December. I played ...        2\n",
              "1  I've owned a copy of the original T.A. almost ...        5\n",
              "2  This game actually scared me a couple times, a...        4\n",
              "3  Some games (such as The Sims) are addictive at...        5\n",
              "4  This game was okay - it could've been better. ...        4"
            ],
            "text/html": [
              "\n",
              "  <div id=\"df-93c4a7ce-e320-49b8-a51c-e9c8e704efb9\">\n",
              "    <div class=\"colab-df-container\">\n",
              "      <div>\n",
              "<style scoped>\n",
              "    .dataframe tbody tr th:only-of-type {\n",
              "        vertical-align: middle;\n",
              "    }\n",
              "\n",
              "    .dataframe tbody tr th {\n",
              "        vertical-align: top;\n",
              "    }\n",
              "\n",
              "    .dataframe thead th {\n",
              "        text-align: right;\n",
              "    }\n",
              "</style>\n",
              "<table border=\"1\" class=\"dataframe\">\n",
              "  <thead>\n",
              "    <tr style=\"text-align: right;\">\n",
              "      <th></th>\n",
              "      <th>reviewText</th>\n",
              "      <th>overall</th>\n",
              "    </tr>\n",
              "  </thead>\n",
              "  <tbody>\n",
              "    <tr>\n",
              "      <th>0</th>\n",
              "      <td>I bought this game back in December. I played ...</td>\n",
              "      <td>2</td>\n",
              "    </tr>\n",
              "    <tr>\n",
              "      <th>1</th>\n",
              "      <td>I've owned a copy of the original T.A. almost ...</td>\n",
              "      <td>5</td>\n",
              "    </tr>\n",
              "    <tr>\n",
              "      <th>2</th>\n",
              "      <td>This game actually scared me a couple times, a...</td>\n",
              "      <td>4</td>\n",
              "    </tr>\n",
              "    <tr>\n",
              "      <th>3</th>\n",
              "      <td>Some games (such as The Sims) are addictive at...</td>\n",
              "      <td>5</td>\n",
              "    </tr>\n",
              "    <tr>\n",
              "      <th>4</th>\n",
              "      <td>This game was okay - it could've been better. ...</td>\n",
              "      <td>4</td>\n",
              "    </tr>\n",
              "  </tbody>\n",
              "</table>\n",
              "</div>\n",
              "      <button class=\"colab-df-convert\" onclick=\"convertToInteractive('df-93c4a7ce-e320-49b8-a51c-e9c8e704efb9')\"\n",
              "              title=\"Convert this dataframe to an interactive table.\"\n",
              "              style=\"display:none;\">\n",
              "        \n",
              "  <svg xmlns=\"http://www.w3.org/2000/svg\" height=\"24px\"viewBox=\"0 0 24 24\"\n",
              "       width=\"24px\">\n",
              "    <path d=\"M0 0h24v24H0V0z\" fill=\"none\"/>\n",
              "    <path d=\"M18.56 5.44l.94 2.06.94-2.06 2.06-.94-2.06-.94-.94-2.06-.94 2.06-2.06.94zm-11 1L8.5 8.5l.94-2.06 2.06-.94-2.06-.94L8.5 2.5l-.94 2.06-2.06.94zm10 10l.94 2.06.94-2.06 2.06-.94-2.06-.94-.94-2.06-.94 2.06-2.06.94z\"/><path d=\"M17.41 7.96l-1.37-1.37c-.4-.4-.92-.59-1.43-.59-.52 0-1.04.2-1.43.59L10.3 9.45l-7.72 7.72c-.78.78-.78 2.05 0 2.83L4 21.41c.39.39.9.59 1.41.59.51 0 1.02-.2 1.41-.59l7.78-7.78 2.81-2.81c.8-.78.8-2.07 0-2.86zM5.41 20L4 18.59l7.72-7.72 1.47 1.35L5.41 20z\"/>\n",
              "  </svg>\n",
              "      </button>\n",
              "      \n",
              "  <style>\n",
              "    .colab-df-container {\n",
              "      display:flex;\n",
              "      flex-wrap:wrap;\n",
              "      gap: 12px;\n",
              "    }\n",
              "\n",
              "    .colab-df-convert {\n",
              "      background-color: #E8F0FE;\n",
              "      border: none;\n",
              "      border-radius: 50%;\n",
              "      cursor: pointer;\n",
              "      display: none;\n",
              "      fill: #1967D2;\n",
              "      height: 32px;\n",
              "      padding: 0 0 0 0;\n",
              "      width: 32px;\n",
              "    }\n",
              "\n",
              "    .colab-df-convert:hover {\n",
              "      background-color: #E2EBFA;\n",
              "      box-shadow: 0px 1px 2px rgba(60, 64, 67, 0.3), 0px 1px 3px 1px rgba(60, 64, 67, 0.15);\n",
              "      fill: #174EA6;\n",
              "    }\n",
              "\n",
              "    [theme=dark] .colab-df-convert {\n",
              "      background-color: #3B4455;\n",
              "      fill: #D2E3FC;\n",
              "    }\n",
              "\n",
              "    [theme=dark] .colab-df-convert:hover {\n",
              "      background-color: #434B5C;\n",
              "      box-shadow: 0px 1px 3px 1px rgba(0, 0, 0, 0.15);\n",
              "      filter: drop-shadow(0px 1px 2px rgba(0, 0, 0, 0.3));\n",
              "      fill: #FFFFFF;\n",
              "    }\n",
              "  </style>\n",
              "\n",
              "      <script>\n",
              "        const buttonEl =\n",
              "          document.querySelector('#df-93c4a7ce-e320-49b8-a51c-e9c8e704efb9 button.colab-df-convert');\n",
              "        buttonEl.style.display =\n",
              "          google.colab.kernel.accessAllowed ? 'block' : 'none';\n",
              "\n",
              "        async function convertToInteractive(key) {\n",
              "          const element = document.querySelector('#df-93c4a7ce-e320-49b8-a51c-e9c8e704efb9');\n",
              "          const dataTable =\n",
              "            await google.colab.kernel.invokeFunction('convertToInteractive',\n",
              "                                                     [key], {});\n",
              "          if (!dataTable) return;\n",
              "\n",
              "          const docLinkHtml = 'Like what you see? Visit the ' +\n",
              "            '<a target=\"_blank\" href=https://colab.research.google.com/notebooks/data_table.ipynb>data table notebook</a>'\n",
              "            + ' to learn more about interactive tables.';\n",
              "          element.innerHTML = '';\n",
              "          dataTable['output_type'] = 'display_data';\n",
              "          await google.colab.output.renderOutput(dataTable, element);\n",
              "          const docLink = document.createElement('div');\n",
              "          docLink.innerHTML = docLinkHtml;\n",
              "          element.appendChild(docLink);\n",
              "        }\n",
              "      </script>\n",
              "    </div>\n",
              "  </div>\n",
              "  "
            ]
          },
          "metadata": {},
          "execution_count": 39
        }
      ]
    },
    {
      "cell_type": "markdown",
      "source": [
        "Clasifico las estrellas en dos grupos"
      ],
      "metadata": {
        "id": "thq0uxC5rMdR"
      }
    },
    {
      "cell_type": "code",
      "source": [
        "def sentimientos(row):\n",
        "    if int(row['overall']) < 4:\n",
        "        return 0\n",
        "    else:\n",
        "        return 1"
      ],
      "metadata": {
        "id": "0U9crAe3Xg3Q"
      },
      "execution_count": null,
      "outputs": []
    },
    {
      "cell_type": "code",
      "source": [
        "data['Sentimiento'] = data.apply(lambda row: sentimientos(row), axis=1)"
      ],
      "metadata": {
        "id": "TEUHj4SFmBfp"
      },
      "execution_count": null,
      "outputs": []
    },
    {
      "cell_type": "code",
      "source": [
        "data.head(5)"
      ],
      "metadata": {
        "colab": {
          "base_uri": "https://localhost:8080/",
          "height": 206
        },
        "id": "YodGB6w5mIvm",
        "outputId": "b4cfee33-6fd9-4821-ab9a-9ad6faafafde"
      },
      "execution_count": null,
      "outputs": [
        {
          "output_type": "execute_result",
          "data": {
            "text/plain": [
              "                                          reviewText  overall  Sentimiento\n",
              "0  I bought this game back in December. I played ...        2            0\n",
              "1  I've owned a copy of the original T.A. almost ...        5            1\n",
              "2  This game actually scared me a couple times, a...        4            1\n",
              "3  Some games (such as The Sims) are addictive at...        5            1\n",
              "4  This game was okay - it could've been better. ...        4            1"
            ],
            "text/html": [
              "\n",
              "  <div id=\"df-ae1a38ec-bbd7-4570-87e9-d6b1f0578785\">\n",
              "    <div class=\"colab-df-container\">\n",
              "      <div>\n",
              "<style scoped>\n",
              "    .dataframe tbody tr th:only-of-type {\n",
              "        vertical-align: middle;\n",
              "    }\n",
              "\n",
              "    .dataframe tbody tr th {\n",
              "        vertical-align: top;\n",
              "    }\n",
              "\n",
              "    .dataframe thead th {\n",
              "        text-align: right;\n",
              "    }\n",
              "</style>\n",
              "<table border=\"1\" class=\"dataframe\">\n",
              "  <thead>\n",
              "    <tr style=\"text-align: right;\">\n",
              "      <th></th>\n",
              "      <th>reviewText</th>\n",
              "      <th>overall</th>\n",
              "      <th>Sentimiento</th>\n",
              "    </tr>\n",
              "  </thead>\n",
              "  <tbody>\n",
              "    <tr>\n",
              "      <th>0</th>\n",
              "      <td>I bought this game back in December. I played ...</td>\n",
              "      <td>2</td>\n",
              "      <td>0</td>\n",
              "    </tr>\n",
              "    <tr>\n",
              "      <th>1</th>\n",
              "      <td>I've owned a copy of the original T.A. almost ...</td>\n",
              "      <td>5</td>\n",
              "      <td>1</td>\n",
              "    </tr>\n",
              "    <tr>\n",
              "      <th>2</th>\n",
              "      <td>This game actually scared me a couple times, a...</td>\n",
              "      <td>4</td>\n",
              "      <td>1</td>\n",
              "    </tr>\n",
              "    <tr>\n",
              "      <th>3</th>\n",
              "      <td>Some games (such as The Sims) are addictive at...</td>\n",
              "      <td>5</td>\n",
              "      <td>1</td>\n",
              "    </tr>\n",
              "    <tr>\n",
              "      <th>4</th>\n",
              "      <td>This game was okay - it could've been better. ...</td>\n",
              "      <td>4</td>\n",
              "      <td>1</td>\n",
              "    </tr>\n",
              "  </tbody>\n",
              "</table>\n",
              "</div>\n",
              "      <button class=\"colab-df-convert\" onclick=\"convertToInteractive('df-ae1a38ec-bbd7-4570-87e9-d6b1f0578785')\"\n",
              "              title=\"Convert this dataframe to an interactive table.\"\n",
              "              style=\"display:none;\">\n",
              "        \n",
              "  <svg xmlns=\"http://www.w3.org/2000/svg\" height=\"24px\"viewBox=\"0 0 24 24\"\n",
              "       width=\"24px\">\n",
              "    <path d=\"M0 0h24v24H0V0z\" fill=\"none\"/>\n",
              "    <path d=\"M18.56 5.44l.94 2.06.94-2.06 2.06-.94-2.06-.94-.94-2.06-.94 2.06-2.06.94zm-11 1L8.5 8.5l.94-2.06 2.06-.94-2.06-.94L8.5 2.5l-.94 2.06-2.06.94zm10 10l.94 2.06.94-2.06 2.06-.94-2.06-.94-.94-2.06-.94 2.06-2.06.94z\"/><path d=\"M17.41 7.96l-1.37-1.37c-.4-.4-.92-.59-1.43-.59-.52 0-1.04.2-1.43.59L10.3 9.45l-7.72 7.72c-.78.78-.78 2.05 0 2.83L4 21.41c.39.39.9.59 1.41.59.51 0 1.02-.2 1.41-.59l7.78-7.78 2.81-2.81c.8-.78.8-2.07 0-2.86zM5.41 20L4 18.59l7.72-7.72 1.47 1.35L5.41 20z\"/>\n",
              "  </svg>\n",
              "      </button>\n",
              "      \n",
              "  <style>\n",
              "    .colab-df-container {\n",
              "      display:flex;\n",
              "      flex-wrap:wrap;\n",
              "      gap: 12px;\n",
              "    }\n",
              "\n",
              "    .colab-df-convert {\n",
              "      background-color: #E8F0FE;\n",
              "      border: none;\n",
              "      border-radius: 50%;\n",
              "      cursor: pointer;\n",
              "      display: none;\n",
              "      fill: #1967D2;\n",
              "      height: 32px;\n",
              "      padding: 0 0 0 0;\n",
              "      width: 32px;\n",
              "    }\n",
              "\n",
              "    .colab-df-convert:hover {\n",
              "      background-color: #E2EBFA;\n",
              "      box-shadow: 0px 1px 2px rgba(60, 64, 67, 0.3), 0px 1px 3px 1px rgba(60, 64, 67, 0.15);\n",
              "      fill: #174EA6;\n",
              "    }\n",
              "\n",
              "    [theme=dark] .colab-df-convert {\n",
              "      background-color: #3B4455;\n",
              "      fill: #D2E3FC;\n",
              "    }\n",
              "\n",
              "    [theme=dark] .colab-df-convert:hover {\n",
              "      background-color: #434B5C;\n",
              "      box-shadow: 0px 1px 3px 1px rgba(0, 0, 0, 0.15);\n",
              "      filter: drop-shadow(0px 1px 2px rgba(0, 0, 0, 0.3));\n",
              "      fill: #FFFFFF;\n",
              "    }\n",
              "  </style>\n",
              "\n",
              "      <script>\n",
              "        const buttonEl =\n",
              "          document.querySelector('#df-ae1a38ec-bbd7-4570-87e9-d6b1f0578785 button.colab-df-convert');\n",
              "        buttonEl.style.display =\n",
              "          google.colab.kernel.accessAllowed ? 'block' : 'none';\n",
              "\n",
              "        async function convertToInteractive(key) {\n",
              "          const element = document.querySelector('#df-ae1a38ec-bbd7-4570-87e9-d6b1f0578785');\n",
              "          const dataTable =\n",
              "            await google.colab.kernel.invokeFunction('convertToInteractive',\n",
              "                                                     [key], {});\n",
              "          if (!dataTable) return;\n",
              "\n",
              "          const docLinkHtml = 'Like what you see? Visit the ' +\n",
              "            '<a target=\"_blank\" href=https://colab.research.google.com/notebooks/data_table.ipynb>data table notebook</a>'\n",
              "            + ' to learn more about interactive tables.';\n",
              "          element.innerHTML = '';\n",
              "          dataTable['output_type'] = 'display_data';\n",
              "          await google.colab.output.renderOutput(dataTable, element);\n",
              "          const docLink = document.createElement('div');\n",
              "          docLink.innerHTML = docLinkHtml;\n",
              "          element.appendChild(docLink);\n",
              "        }\n",
              "      </script>\n",
              "    </div>\n",
              "  </div>\n",
              "  "
            ]
          },
          "metadata": {},
          "execution_count": 42
        }
      ]
    },
    {
      "cell_type": "code",
      "source": [
        "#Conozco la frecuencia de reviews por estrellas\n",
        "f_sentimento = data.groupby(['Sentimiento']).count()\n",
        "print(f_sentimento)"
      ],
      "metadata": {
        "colab": {
          "base_uri": "https://localhost:8080/"
        },
        "id": "Z9RDZPZamZ9q",
        "outputId": "6cb91f3b-e040-4151-e1b9-076e76e0665b"
      },
      "execution_count": null,
      "outputs": [
        {
          "output_type": "stream",
          "name": "stdout",
          "text": [
            "             reviewText  overall\n",
            "Sentimiento                     \n",
            "0                   894      894\n",
            "1                  4106     4106\n"
          ]
        }
      ]
    },
    {
      "cell_type": "code",
      "source": [
        "f_sentimento[\"overall\"].plot(kind='bar', title='Cantidad de reviews por puntuación (número de Estrellas)')"
      ],
      "metadata": {
        "colab": {
          "base_uri": "https://localhost:8080/",
          "height": 309
        },
        "id": "ZjZmOvMQmR8o",
        "outputId": "195938fa-6ce0-4109-decc-4481363800af"
      },
      "execution_count": null,
      "outputs": [
        {
          "output_type": "execute_result",
          "data": {
            "text/plain": [
              "<matplotlib.axes._subplots.AxesSubplot at 0x7eff8a534cd0>"
            ]
          },
          "metadata": {},
          "execution_count": 44
        },
        {
          "output_type": "display_data",
          "data": {
            "text/plain": [
              "<Figure size 432x288 with 1 Axes>"
            ],
            "image/png": "[encoded data removed]"
          },
          "metadata": {
            "needs_background": "light"
          }
        }
      ]
    },
    {
      "cell_type": "markdown",
      "source": [
        "# N-grams más frecuentes\n"
      ],
      "metadata": {
        "id": "TQ6FilL-CtzL"
      }
    },
    {
      "cell_type": "code",
      "source": [
        "from nltk import ngrams\n",
        "from nltk.probability import FreqDist"
      ],
      "metadata": {
        "id": "iY7dhHJGrKwU"
      },
      "execution_count": null,
      "outputs": []
    },
    {
      "cell_type": "code",
      "source": [
        "bigramas = list(ngrams(words, 2))\n",
        "trigramas = list(ngrams(words, 3))"
      ],
      "metadata": {
        "id": "YsIyFdRvrM6E"
      },
      "execution_count": null,
      "outputs": []
    },
    {
      "cell_type": "code",
      "source": [
        "len(bigramas)"
      ],
      "metadata": {
        "colab": {
          "base_uri": "https://localhost:8080/"
        },
        "id": "aETYWL2wwrGC",
        "outputId": "49e221ba-dd07-4a93-e081-68f1527151dd"
      },
      "execution_count": null,
      "outputs": [
        {
          "output_type": "execute_result",
          "data": {
            "text/plain": [
              "953375"
            ]
          },
          "metadata": {},
          "execution_count": 47
        }
      ]
    },
    {
      "cell_type": "code",
      "source": [
        "len(trigramas)"
      ],
      "metadata": {
        "colab": {
          "base_uri": "https://localhost:8080/"
        },
        "id": "bU3aNtJIwuZa",
        "outputId": "6ae2b28e-2767-45a5-a14a-6aff018ee483"
      },
      "execution_count": null,
      "outputs": [
        {
          "output_type": "execute_result",
          "data": {
            "text/plain": [
              "953374"
            ]
          },
          "metadata": {},
          "execution_count": 48
        }
      ]
    },
    {
      "cell_type": "code",
      "source": [
        "bigramas[:15]"
      ],
      "metadata": {
        "colab": {
          "base_uri": "https://localhost:8080/"
        },
        "id": "zw_TgpBhgNYj",
        "outputId": "ef9e1c50-c7a9-42b2-a6cd-f08c7950d05e"
      },
      "execution_count": null,
      "outputs": [
        {
          "output_type": "execute_result",
          "data": {
            "text/plain": [
              "[(\"['i\", 'bought'),\n",
              " ('bought', 'this'),\n",
              " ('this', 'game'),\n",
              " ('game', 'back'),\n",
              " ('back', 'in'),\n",
              " ('in', 'december.'),\n",
              " ('december.', 'i'),\n",
              " ('i', 'played'),\n",
              " ('played', 'it'),\n",
              " ('it', 'for'),\n",
              " ('for', 'about'),\n",
              " ('about', '2'),\n",
              " ('2', 'solid'),\n",
              " ('solid', 'hours.'),\n",
              " ('hours.', 'i')]"
            ]
          },
          "metadata": {},
          "execution_count": 49
        }
      ]
    },
    {
      "cell_type": "code",
      "source": [
        "trigramas[:15]"
      ],
      "metadata": {
        "colab": {
          "base_uri": "https://localhost:8080/"
        },
        "id": "kdPLZD1fgQpn",
        "outputId": "bcc41f92-4037-43dd-d7b5-4cfcf894604d"
      },
      "execution_count": null,
      "outputs": [
        {
          "output_type": "execute_result",
          "data": {
            "text/plain": [
              "[(\"['i\", 'bought', 'this'),\n",
              " ('bought', 'this', 'game'),\n",
              " ('this', 'game', 'back'),\n",
              " ('game', 'back', 'in'),\n",
              " ('back', 'in', 'december.'),\n",
              " ('in', 'december.', 'i'),\n",
              " ('december.', 'i', 'played'),\n",
              " ('i', 'played', 'it'),\n",
              " ('played', 'it', 'for'),\n",
              " ('it', 'for', 'about'),\n",
              " ('for', 'about', '2'),\n",
              " ('about', '2', 'solid'),\n",
              " ('2', 'solid', 'hours.'),\n",
              " ('solid', 'hours.', 'i'),\n",
              " ('hours.', 'i', 'come')]"
            ]
          },
          "metadata": {},
          "execution_count": 50
        }
      ]
    },
    {
      "cell_type": "code",
      "source": [
        "bg_f = FreqDist(bigramas)\n",
        "tg_f = FreqDist(trigramas)"
      ],
      "metadata": {
        "id": "IaknFacsgb57"
      },
      "execution_count": null,
      "outputs": []
    },
    {
      "cell_type": "code",
      "source": [
        "#Bigramas más frecuentes\n",
        "bg_f.most_common(15)"
      ],
      "metadata": {
        "colab": {
          "base_uri": "https://localhost:8080/"
        },
        "id": "HDecKIydhBB2",
        "outputId": "ab6d6df0-2069-4509-fff4-01cfc5a094e2"
      },
      "execution_count": null,
      "outputs": [
        {
          "output_type": "execute_result",
          "data": {
            "text/plain": [
              "[(('of', 'the'), 5616),\n",
              " (('this', 'game'), 4365),\n",
              " (('the', 'game'), 3665),\n",
              " (('in', 'the'), 3070),\n",
              " (('if', 'you'), 2344),\n",
              " (('is', 'a'), 2337),\n",
              " (('game', 'is'), 2312),\n",
              " (('you', 'can'), 2187),\n",
              " (('and', 'the'), 2138),\n",
              " (('to', 'the'), 1960),\n",
              " (('on', 'the'), 1645),\n",
              " (('it', 'is'), 1638),\n",
              " (('is', 'the'), 1616),\n",
              " (('the', 'best'), 1596),\n",
              " (('for', 'the'), 1586)]"
            ]
          },
          "metadata": {},
          "execution_count": 52
        }
      ]
    },
    {
      "cell_type": "code",
      "source": [
        "#Trigramas más frecuentes\n",
        "tg_f.most_common(15)"
      ],
      "metadata": {
        "colab": {
          "base_uri": "https://localhost:8080/"
        },
        "id": "F3ZkqnnjhQJ1",
        "outputId": "ecbe94ab-e8f7-4933-afd4-14da6afb6024"
      },
      "execution_count": null,
      "outputs": [
        {
          "output_type": "execute_result",
          "data": {
            "text/plain": [
              "[(('this', 'game', 'is'), 1092),\n",
              " (('one', 'of', 'the'), 980),\n",
              " (('the', 'game', 'is'), 629),\n",
              " (('a', 'lot', 'of'), 623),\n",
              " (('you', 'have', 'to'), 552),\n",
              " (('of', 'the', 'best'), 487),\n",
              " (('some', 'of', 'the'), 460),\n",
              " (('the', 'graphics', 'are'), 458),\n",
              " (('this', 'is', 'a'), 407),\n",
              " (('is', 'one', 'of'), 396),\n",
              " (('of', 'the', 'game'), 389),\n",
              " (('in', 'the', 'game'), 288),\n",
              " (('in', 'this', 'game'), 282),\n",
              " (('if', 'you', 'are'), 258),\n",
              " (('this', 'is', 'the'), 256)]"
            ]
          },
          "metadata": {},
          "execution_count": 53
        }
      ]
    },
    {
      "cell_type": "code",
      "source": [
        "bigrams_f_mas_comunes = bg_f.most_common(15)\n",
        "bg_s = [str(bg[0]) for bg in bigrams_f_mas_comunes]\n",
        "bgs_f = [bg[1] for bg in bigrams_f_mas_comunes]\n",
        "\n",
        "trigrams_f_mas_comunes = tg_f.most_common(15)\n",
        "tg_s = [str(tg[0]) for tg in trigrams_f_mas_comunes]\n",
        "tgs_f = [tg[1] for tg in trigrams_f_mas_comunes]"
      ],
      "metadata": {
        "id": "8rJfiqxbmPvo"
      },
      "execution_count": null,
      "outputs": []
    },
    {
      "cell_type": "code",
      "source": [
        "bgs_f, bg_s = zip(*sorted(zip(bgs_f, bg_s)))\n",
        "tgs_f, tg_s = zip(*sorted(zip(tgs_f, tg_s)))"
      ],
      "metadata": {
        "id": "IDGzAE46mxRA"
      },
      "execution_count": null,
      "outputs": []
    },
    {
      "cell_type": "code",
      "source": [
        "plt.barh(bg_s, bgs_f)\n",
        "plt.title('Bigramas más frecuentes')\n",
        "plt.show()"
      ],
      "metadata": {
        "colab": {
          "base_uri": "https://localhost:8080/",
          "height": 281
        },
        "id": "p-4a_RUJnDLn",
        "outputId": "05207c58-9531-4a8f-ba7b-daec5f1a2938"
      },
      "execution_count": null,
      "outputs": [
        {
          "output_type": "display_data",
          "data": {
            "text/plain": [
              "<Figure size 432x288 with 1 Axes>"
            ],
            "image/png": "[encoded data removed]"
          },
          "metadata": {
            "needs_background": "light"
          }
        }
      ]
    },
    {
      "cell_type": "code",
      "source": [
        "plt.barh(tg_s, tgs_f)\n",
        "plt.title('Trigramas más frecuentes')\n",
        "plt.show()"
      ],
      "metadata": {
        "colab": {
          "base_uri": "https://localhost:8080/",
          "height": 281
        },
        "id": "I9Qxpq-3nPix",
        "outputId": "e2f29fb3-077a-471c-de34-31b64e9d6bd8"
      },
      "execution_count": null,
      "outputs": [
        {
          "output_type": "display_data",
          "data": {
            "text/plain": [
              "<Figure size 432x288 with 1 Axes>"
            ],
            "image/png": "[encoded data removed]"
          },
          "metadata": {
            "needs_background": "light"
          }
        }
      ]
    },
    {
      "cell_type": "markdown",
      "source": [
        "**Ahora sin stopwords**"
      ],
      "metadata": {
        "id": "1DqZ5En_mAJ5"
      }
    },
    {
      "cell_type": "code",
      "source": [
        "bigramas_clean = list(ngrams(words_clean, 2))\n",
        "trigramas_clean = list(ngrams(words_clean, 3))"
      ],
      "metadata": {
        "id": "Q14Qv4wttZm2"
      },
      "execution_count": null,
      "outputs": []
    },
    {
      "cell_type": "code",
      "source": [
        "len(bigramas_clean)"
      ],
      "metadata": {
        "colab": {
          "base_uri": "https://localhost:8080/"
        },
        "outputId": "25d47007-52e6-4c6c-b212-b46099f6420b",
        "id": "w2TaJ1i1ujyH"
      },
      "execution_count": null,
      "outputs": [
        {
          "output_type": "execute_result",
          "data": {
            "text/plain": [
              "522027"
            ]
          },
          "metadata": {},
          "execution_count": 59
        }
      ]
    },
    {
      "cell_type": "code",
      "source": [
        "len(trigramas_clean)"
      ],
      "metadata": {
        "colab": {
          "base_uri": "https://localhost:8080/"
        },
        "outputId": "01c672ff-9935-47ba-fe86-4a52357a6d59",
        "id": "OTIAzMAfujyI"
      },
      "execution_count": null,
      "outputs": [
        {
          "output_type": "execute_result",
          "data": {
            "text/plain": [
              "522026"
            ]
          },
          "metadata": {},
          "execution_count": 60
        }
      ]
    },
    {
      "cell_type": "code",
      "source": [
        "bigramas_clean[:15]"
      ],
      "metadata": {
        "colab": {
          "base_uri": "https://localhost:8080/"
        },
        "outputId": "e1afa4ff-c297-4828-dfb8-ee0741d97cb2",
        "id": "sEvnulMmujyI"
      },
      "execution_count": null,
      "outputs": [
        {
          "output_type": "execute_result",
          "data": {
            "text/plain": [
              "[(\"['i\", 'bought'),\n",
              " ('bought', 'game'),\n",
              " ('game', 'back'),\n",
              " ('back', 'december.'),\n",
              " ('december.', 'played'),\n",
              " ('played', '2'),\n",
              " ('2', 'solid'),\n",
              " ('solid', 'hours.'),\n",
              " ('hours.', 'come'),\n",
              " ('come', 'realize'),\n",
              " ('realize', 'it.'),\n",
              " ('it.', 'levels'),\n",
              " ('levels', 'like'),\n",
              " ('like', 'this.'),\n",
              " ('this.', 'boring')]"
            ]
          },
          "metadata": {},
          "execution_count": 61
        }
      ]
    },
    {
      "cell_type": "code",
      "source": [
        "trigramas_clean[:15]"
      ],
      "metadata": {
        "colab": {
          "base_uri": "https://localhost:8080/"
        },
        "outputId": "8cd24433-5fdc-4a37-8d7b-c74eaef1b49e",
        "id": "1SDmI6ueujyI"
      },
      "execution_count": null,
      "outputs": [
        {
          "output_type": "execute_result",
          "data": {
            "text/plain": [
              "[(\"['i\", 'bought', 'game'),\n",
              " ('bought', 'game', 'back'),\n",
              " ('game', 'back', 'december.'),\n",
              " ('back', 'december.', 'played'),\n",
              " ('december.', 'played', '2'),\n",
              " ('played', '2', 'solid'),\n",
              " ('2', 'solid', 'hours.'),\n",
              " ('solid', 'hours.', 'come'),\n",
              " ('hours.', 'come', 'realize'),\n",
              " ('come', 'realize', 'it.'),\n",
              " ('realize', 'it.', 'levels'),\n",
              " ('it.', 'levels', 'like'),\n",
              " ('levels', 'like', 'this.'),\n",
              " ('like', 'this.', 'boring'),\n",
              " ('this.', 'boring', 'like')]"
            ]
          },
          "metadata": {},
          "execution_count": 62
        }
      ]
    },
    {
      "cell_type": "code",
      "source": [
        "bg_clean = FreqDist(bigramas_clean)\n",
        "tg_clean = FreqDist(trigramas_clean)"
      ],
      "metadata": {
        "id": "UJVgavucujyI"
      },
      "execution_count": null,
      "outputs": []
    },
    {
      "cell_type": "code",
      "source": [
        "#Bigramas más frecuentes\n",
        "bg_clean.most_common(15)"
      ],
      "metadata": {
        "colab": {
          "base_uri": "https://localhost:8080/"
        },
        "outputId": "7f7d9dae-6f6a-494f-e823-834fa468034a",
        "id": "jBGXkS7xujyI"
      },
      "execution_count": null,
      "outputs": [
        {
          "output_type": "execute_result",
          "data": {
            "text/plain": [
              "[(('final', 'fantasy'), 623),\n",
              " (('one', 'best'), 384),\n",
              " (('resident', 'evil'), 342),\n",
              " (('game', 'ever'), 264),\n",
              " (('can', 'get'), 239),\n",
              " (('\"this', 'game'), 225),\n",
              " (('video', 'game'), 220),\n",
              " (('game', 'play'), 215),\n",
              " (('super', 'mario'), 210),\n",
              " (('can', 'play'), 206),\n",
              " (('great', 'game'), 202),\n",
              " (('play', 'game'), 201),\n",
              " (('even', 'though'), 195),\n",
              " (('best', 'game'), 194),\n",
              " (('game', 'will'), 191)]"
            ]
          },
          "metadata": {},
          "execution_count": 64
        }
      ]
    },
    {
      "cell_type": "code",
      "source": [
        "#Trigramas más frecuentes\n",
        "tg_clean.most_common(15)"
      ],
      "metadata": {
        "colab": {
          "base_uri": "https://localhost:8080/"
        },
        "outputId": "f5bc5cd9-f237-4e77-d6de-ae6ce5827340",
        "id": "yibGDr4CujyI"
      },
      "execution_count": null,
      "outputs": [
        {
          "output_type": "execute_result",
          "data": {
            "text/plain": [
              "[(('one', 'best', 'games'), 113),\n",
              " (('super', 'mario', '64'), 72),\n",
              " (('final', 'fantasy', 'vii'), 69),\n",
              " (('metal', 'gear', 'solid'), 69),\n",
              " (('best', 'games', 'ever'), 61),\n",
              " (('best', 'game', 'ever'), 61),\n",
              " (('game', 'boy', 'color'), 48),\n",
              " (('resident', 'evil', '2'), 46),\n",
              " (('final', 'fantasy', 'viii'), 45),\n",
              " (('game', 'ever', 'played'), 44),\n",
              " (('super', 'mario', 'bros.'), 42),\n",
              " (('final', 'fantasy', '7'), 37),\n",
              " (('final', 'fantasy', 'game'), 34),\n",
              " (('street', 'fighter', 'alpha'), 33),\n",
              " (('first', 'time', 'played'), 33)]"
            ]
          },
          "metadata": {},
          "execution_count": 65
        }
      ]
    },
    {
      "cell_type": "code",
      "source": [
        "\n",
        "bg_s_clean = [str(bg[0]) for bg in bg_clean.most_common(15) ]\n",
        "bgs_f_clean = [bg[1] for bg in bg_clean.most_common(15) ]\n",
        "\n",
        "tg_s_clean = [str(tg[0]) for tg in tg_clean.most_common(15)]\n",
        "tgs_f_clean = [tg[1] for tg in tg_clean.most_common(15)]"
      ],
      "metadata": {
        "id": "RyrkJ8DvujyJ"
      },
      "execution_count": null,
      "outputs": []
    },
    {
      "cell_type": "code",
      "source": [
        "bgs_f_clean, bg_s_clean = zip(*sorted(zip(bgs_f_clean, bg_s_clean)))\n",
        "tgs_f_clean, tg_s_clean = zip(*sorted(zip(tgs_f_clean, tg_s_clean)))"
      ],
      "metadata": {
        "id": "-ELXDeflujyJ"
      },
      "execution_count": null,
      "outputs": []
    },
    {
      "cell_type": "code",
      "source": [
        "plt.barh(bg_s_clean, bgs_f_clean)\n",
        "plt.title('Bigramas más frecuentes')\n",
        "plt.show()"
      ],
      "metadata": {
        "colab": {
          "base_uri": "https://localhost:8080/",
          "height": 281
        },
        "outputId": "27798ea4-8f29-4816-d883-9bd2ae7aea29",
        "id": "rkcgrudQujyJ"
      },
      "execution_count": null,
      "outputs": [
        {
          "output_type": "display_data",
          "data": {
            "text/plain": [
              "<Figure size 432x288 with 1 Axes>"
            ],
            "image/png": "[encoded data removed]"
          },
          "metadata": {
            "needs_background": "light"
          }
        }
      ]
    },
    {
      "cell_type": "code",
      "source": [
        "plt.barh(tg_s_clean, tgs_f_clean)\n",
        "plt.title('Trigramas más frecuentes')\n",
        "plt.show()"
      ],
      "metadata": {
        "colab": {
          "base_uri": "https://localhost:8080/",
          "height": 281
        },
        "outputId": "d3c38d14-69e9-4e87-8a7a-2821653c60b6",
        "id": "MaGGiaAnujyJ"
      },
      "execution_count": null,
      "outputs": [
        {
          "output_type": "display_data",
          "data": {
            "text/plain": [
              "<Figure size 432x288 with 1 Axes>"
            ],
            "image/png": "[encoded data removed]"
          },
          "metadata": {
            "needs_background": "light"
          }
        }
      ]
    },
    {
      "cell_type": "markdown",
      "source": [
        "# Nubes de palabras\n"
      ],
      "metadata": {
        "id": "kC1P5UesCuAo"
      }
    },
    {
      "cell_type": "code",
      "source": [
        "from wordcloud import WordCloud\n"
      ],
      "metadata": {
        "id": "_ESuegJXnjDo"
      },
      "execution_count": null,
      "outputs": []
    },
    {
      "cell_type": "code",
      "source": [
        "def plot_word_cloud(text):\n",
        "    wordcloud = WordCloud(max_font_size=50, max_words=50, background_color=\"white\").generate(' '.join(text))\n",
        "    plt.figure( figsize=(16,6))\n",
        "    plt.imshow(wordcloud, interpolation='bilinear')\n",
        "    plt.axis('off')\n",
        "    plt.show()"
      ],
      "metadata": {
        "id": "ze2WT2QqnkKI"
      },
      "execution_count": null,
      "outputs": []
    },
    {
      "cell_type": "markdown",
      "source": [
        "**Primero hacemos la nube de palabras CON stopwords (de la variable \"words\"), luego SIN stopwords (de la variable \"words_clean\")**"
      ],
      "metadata": {
        "id": "7K5q9Lowgan8"
      }
    },
    {
      "cell_type": "code",
      "source": [
        "plot_word_cloud(words)"
      ],
      "metadata": {
        "colab": {
          "base_uri": "https://localhost:8080/",
          "height": 357
        },
        "id": "Tbmn5XibnkSU",
        "outputId": "a5c2c2f0-746d-48f8-ddb7-297bf86aa9f9"
      },
      "execution_count": null,
      "outputs": [
        {
          "output_type": "display_data",
          "data": {
            "text/plain": [
              "<Figure size 1152x432 with 1 Axes>"
            ],
            "image/png": "[encoded data removed]"
          },
          "metadata": {
            "needs_background": "light"
          }
        }
      ]
    },
    {
      "cell_type": "code",
      "source": [
        "plot_word_cloud(words_clean)"
      ],
      "metadata": {
        "colab": {
          "base_uri": "https://localhost:8080/",
          "height": 357
        },
        "id": "6llc1-1_1rhM",
        "outputId": "b755a5a3-b4ad-4b0c-ce37-25d286d2ba53"
      },
      "execution_count": null,
      "outputs": [
        {
          "output_type": "display_data",
          "data": {
            "text/plain": [
              "<Figure size 1152x432 with 1 Axes>"
            ],
            "image/png": "[encoded data removed]"
          },
          "metadata": {
            "needs_background": "light"
          }
        }
      ]
    },
    {
      "cell_type": "markdown",
      "source": [
        "**Obviamente, en ambos casos la palabra más significativa es \"game\". Tomaré algunas de las que aparecen aquí para testear el Word2Vec en la siguiente sección.**"
      ],
      "metadata": {
        "id": "W7GZ6gzQgmQB"
      }
    },
    {
      "cell_type": "markdown",
      "source": [
        "# Visualización en 2 dimensiones de algunos word embeddings calculados con Word2Vec \n",
        "(Elegir 4-5 palabras y pintar las top 10 más similares)\n",
        "\n",
        "\n",
        "Hyperparámetros:\n",
        "\n",
        "**Size:** Será la longitud de nuestro vector que representa la palabra. Cuanto más grande sea este tamaño de vector, mejor, porque más única va a ser la representación que tengamos de esa palabra en el espacio.\n",
        "\n",
        "Sin embargo, si tenemos un vocabulario muy reducido, no hace falta que utilicemos un tamaño tan alto. Para no añadir complejidad al modelo.\n",
        "\n",
        "**Window**: La ventana lo que establece es el número de palabras que va a tener en cuenta alrededor suya. El tamaño también dependerá del corpus que tengamos.\n",
        "\n",
        "**min_count:** toma en cuenta la frecuencia mínima de una palabra para que la aparezca o no en la representación vectorial.\n",
        "\n",
        "**sg:** para seleccionar el algoritmo con el que vamos a trabajar. \n",
        "  - Skip Gram: Lo que hace es que durante el entrenamiento, el modelo tratará de predecir el contexto (palabras-contexto) a una palabra dada. La palabra de entrada será la palabra dada y las de salida serán el contexto. \n",
        "  - CBOW: Es un método de entrenamiento que lo que hace es adivinar cuál es la palabra que quiere predecir. Le damos el contexto, pero la palabra actual la omite, porque es lo que tiene que predecir. Así optimiza. Rellena los huecos e las frases prediciendo las palabras que podrían ir en ese hueco.\n",
        "\n",
        "**hs:** seleccionamos si vamos a utilizar softmax jerárquica para optimizar o un negative sampling (para optimizar los entrenamientos y evitar un overfiting de los modelos, lo que hace es que omite de forma aleatoria, a lo largo del entrenamiento, las palabras que son muy comunes en los textos).\n",
        "\n",
        "**negative:** El valor indica el número de \"palabras ruidosas\" se incluirán (usual entre 5-20 para datasets pequeños, entre 2-5 para datasets grandes).\n",
        "\n",
        "\n",
        "\n"
      ],
      "metadata": {
        "id": "rjKcWXYcCuJX"
      }
    },
    {
      "cell_type": "code",
      "source": [
        "from gensim.models import Word2Vec\n",
        "from gensim.models.word2vec import LineSentence\n",
        "import numpy as np"
      ],
      "metadata": {
        "id": "plUJLkVM3gPh"
      },
      "execution_count": null,
      "outputs": []
    },
    {
      "cell_type": "code",
      "source": [
        "corpus = data['reviewText'].str.split()"
      ],
      "metadata": {
        "id": "SbjUyGzA3hwr"
      },
      "execution_count": null,
      "outputs": []
    },
    {
      "cell_type": "markdown",
      "source": [
        "**Probaré un par de parámetros distintos en ambos modelos (y los mantendré similares en ambos como para poder hacer una especie de comparación) partiendo de los parámetros que utilizamos en clases. Si bien el dataset no es muy grande, tampoco me parece pequeño. Me falta tener esa noción de qué se considera \"pocas palabras\".**"
      ],
      "metadata": {
        "id": "KbHsFLjdGdqp"
      }
    },
    {
      "cell_type": "code",
      "source": [
        "parametros = {\n",
        "    'size': 500,\n",
        "    'window': 20,\n",
        "    'min_count': 5,\n",
        "    'sg': 1,\n",
        "    'hs': 0,\n",
        "    'negative': 20\n",
        "}"
      ],
      "metadata": {
        "id": "L1xElgEnGRmN"
      },
      "execution_count": null,
      "outputs": []
    },
    {
      "cell_type": "code",
      "source": [
        "Word2Vec_sg = Word2Vec(**parametros)\n",
        "Word2Vec_sg.build_vocab(corpus)\n",
        "print('El vocabulario está compuesto por {} palabras'.format(len(Word2Vec_sg.wv.vocab)))"
      ],
      "metadata": {
        "colab": {
          "base_uri": "https://localhost:8080/"
        },
        "id": "a_f1702NIzks",
        "outputId": "54574cdd-050c-4aab-8499-398ae1ac13f1"
      },
      "execution_count": null,
      "outputs": [
        {
          "output_type": "stream",
          "name": "stdout",
          "text": [
            "El vocabulario está compuesto por 11098 palabras\n"
          ]
        }
      ]
    },
    {
      "cell_type": "code",
      "source": [
        "#Entrenamos los pesos de los embeddings\n",
        "Word2Vec_sg.train(sentences=corpus, total_examples=Word2Vec_sg.corpus_count, epochs=4)"
      ],
      "metadata": {
        "colab": {
          "base_uri": "https://localhost:8080/"
        },
        "id": "GdF9I_X7LXoJ",
        "outputId": "80562613-746c-4e83-96a1-b3d96701a1fe"
      },
      "execution_count": null,
      "outputs": [
        {
          "output_type": "execute_result",
          "data": {
            "text/plain": [
              "(2596223, 3813504)"
            ]
          },
          "metadata": {},
          "execution_count": 86
        }
      ]
    },
    {
      "cell_type": "code",
      "source": [
        "#Por si queremos guardar el modelo\n",
        "# Word2Vec_sg.save('./w2v_sg_w12.pkl')"
      ],
      "metadata": {
        "id": "ZWH1p-G2LjFE"
      },
      "execution_count": null,
      "outputs": []
    },
    {
      "cell_type": "code",
      "source": [
        "# Para cargar un modelo guardado\n",
        "# Word2Vec_sg = Word2Vec.load('./w2v_sg_w12.pkl')"
      ],
      "metadata": {
        "id": "y6yUT7ZcMJBA"
      },
      "execution_count": null,
      "outputs": []
    },
    {
      "cell_type": "markdown",
      "source": [
        "Crearé un modelo con CBOW para comparar los resultados de las palabras más similares"
      ],
      "metadata": {
        "id": "Mma6kQzePZV8"
      }
    },
    {
      "cell_type": "code",
      "source": [
        "cbow_params = {\n",
        "    'size': 500,\n",
        "    'window': 20,\n",
        "    'min_count': 5,\n",
        "    'sg': 0,\n",
        "    'hs': 1,\n",
        "}"
      ],
      "metadata": {
        "id": "TobtZtlqPYhs"
      },
      "execution_count": null,
      "outputs": []
    },
    {
      "cell_type": "code",
      "source": [
        "# CBOW\n",
        "Word2Vec_cbow = Word2Vec(**cbow_params)\n",
        "Word2Vec_cbow.build_vocab(corpus)\n",
        "print('El vocabulario está compuesto por {} palabras'.format(len(Word2Vec_cbow.wv.vocab)))"
      ],
      "metadata": {
        "colab": {
          "base_uri": "https://localhost:8080/"
        },
        "id": "u4Sn1s2fPUA4",
        "outputId": "a22f8b98-b255-45e3-ab62-1df50ba1623a"
      },
      "execution_count": null,
      "outputs": [
        {
          "output_type": "stream",
          "name": "stdout",
          "text": [
            "El vocabulario está compuesto por 11098 palabras\n"
          ]
        }
      ]
    },
    {
      "cell_type": "code",
      "source": [
        "# Entrenamos el modelo CBOW\n",
        "Word2Vec_cbow.train(sentences=corpus, total_examples=Word2Vec_cbow.corpus_count, epochs=4)"
      ],
      "metadata": {
        "colab": {
          "base_uri": "https://localhost:8080/"
        },
        "id": "jpTMIcm2P9D2",
        "outputId": "8a5c28f6-dd3f-41ec-e5ac-330c1caf9da2"
      },
      "execution_count": null,
      "outputs": [
        {
          "output_type": "execute_result",
          "data": {
            "text/plain": [
              "(2596957, 3813504)"
            ]
          },
          "metadata": {},
          "execution_count": 87
        }
      ]
    },
    {
      "cell_type": "markdown",
      "source": [
        "**El CBOW entrena mucho más rápido, como era de esperar, pero tal vez SG sea mejor para este caso en particular.**"
      ],
      "metadata": {
        "id": "FvqhKBE4bg-l"
      }
    },
    {
      "cell_type": "code",
      "source": [
        "# Word2Vec_cbow.save('./w2v_cbow.pkl')"
      ],
      "metadata": {
        "id": "yHO9YV0WQZKI"
      },
      "execution_count": null,
      "outputs": []
    },
    {
      "cell_type": "markdown",
      "source": [
        "## Palabras similares"
      ],
      "metadata": {
        "id": "R31vPEWaQ73Q"
      }
    },
    {
      "cell_type": "code",
      "source": [
        "def print_sim_words(word, model1, model2):\n",
        "    query = \"Most similar to {}\".format(word) \n",
        "    print(query)\n",
        "    print(\"-\"*len(query))\n",
        "    for (sim1, sim2) in zip(model1.wv.most_similar(word), model2.wv.most_similar(word)):\n",
        "        print(\"{}:{}{:.3f}{}{}:{}{:.3f}\".format(sim1[0],\n",
        "                                               \" \"*(20-len(sim1[0])), \n",
        "                                               sim1[1], \n",
        "                                               \" \"*10, \n",
        "                                               sim2[0],\n",
        "                                               \" \"*(20-len(sim2[0])),\n",
        "                                               sim2[1]))\n",
        "    print(\"\\n\")"
      ],
      "metadata": {
        "id": "xqll48cjO31f"
      },
      "execution_count": null,
      "outputs": []
    },
    {
      "cell_type": "markdown",
      "source": [
        "**Probemos el comportamiento de los dos modelos encontrando palabras similares: La izquierda es SG, la derecha es CBOW**"
      ],
      "metadata": {
        "id": "8QPAn5l6b6Y5"
      }
    },
    {
      "cell_type": "code",
      "source": [
        "#Palabras similares\n",
        "print_sim_words('game', Word2Vec_sg, Word2Vec_cbow)\n",
        "print_sim_words('gameplay', Word2Vec_sg, Word2Vec_cbow)\n",
        "print_sim_words('character', Word2Vec_sg, Word2Vec_cbow)\n",
        "print_sim_words('story', Word2Vec_sg, Word2Vec_cbow)"
      ],
      "metadata": {
        "colab": {
          "base_uri": "https://localhost:8080/"
        },
        "id": "UuU6BprrMbx6",
        "outputId": "e2d0fb08-b9b3-4bdc-a0d3-e6680826bdd3"
      },
      "execution_count": null,
      "outputs": [
        {
          "output_type": "stream",
          "name": "stdout",
          "text": [
            "Most similar to game\n",
            "--------------------\n",
            "PS.:                 0.759          game,:               0.696\n",
            "replay.:             0.749          game!:               0.596\n",
            "Definately:          0.742          game.:               0.552\n",
            "Tachyon:             0.735          one,:                0.509\n",
            "recommendations.:    0.734          while.:              0.496\n",
            "Enjoy!:              0.733          title.:              0.489\n",
            "nes:                 0.724          title:               0.471\n",
            "rpgs:                0.723          one.:                0.460\n",
            "Must:                0.723          product:             0.458\n",
            "end!:                0.722          allot:               0.446\n",
            "\n",
            "\n",
            "Most similar to gameplay\n",
            "------------------------\n",
            "visually:            0.674          gameplay,:           0.682\n",
            "undeniably:          0.671          scale:               0.658\n",
            "responsive,:         0.661          ambiance:            0.648\n",
            "crisp,:              0.657          catchy:              0.646\n",
            "choppy,:             0.652          storyline:           0.643\n",
            "satisfying.:         0.651          soundtrack:          0.643\n",
            "practice.:           0.650          FMV's:               0.634\n",
            "wonderfully.:        0.649          background:          0.627\n",
            "scale:               0.647          graphics,:           0.627\n",
            "rate.:               0.646          Gameplay:            0.621\n",
            "\n",
            "\n",
            "Most similar to character\n",
            "-------------------------\n",
            "character.:          0.671          character,:          0.700\n",
            "character's:         0.649          characters:          0.676\n",
            "characters':         0.643          character's:         0.632\n",
            "backstory:           0.607          character.:          0.618\n",
            "traits:              0.606          unique:              0.608\n",
            "weaknesses.:         0.605          personality:         0.576\n",
            "handled:             0.604          spell:               0.568\n",
            "development.:        0.603          battle:              0.566\n",
            "evolves:             0.601          faction:             0.563\n",
            "richly:              0.601          magic:               0.561\n",
            "\n",
            "\n",
            "Most similar to story\n",
            "---------------------\n",
            "plot:                0.685          storyline:           0.819\n",
            "involving.:          0.655          plot:                0.817\n",
            "line:                0.633          story.:              0.650\n",
            "unravels:            0.626          story,:              0.641\n",
            "twists:              0.621          ending:              0.636\n",
            "proportions:         0.614          plot,:               0.631\n",
            "details.:            0.613          acting:              0.620\n",
            "continuation:        0.611          movie:               0.617\n",
            "engaging:            0.607          FF8:                 0.603\n",
            "emotion:             0.606          Squall:              0.599\n",
            "\n",
            "\n"
          ]
        }
      ]
    },
    {
      "cell_type": "markdown",
      "source": [
        "**A mi parecer, el SG está dando mejores resultados**"
      ],
      "metadata": {
        "id": "wK8plkhBS5AP"
      }
    },
    {
      "cell_type": "code",
      "source": [
        "import numpy as np\n",
        "from sklearn.manifold import TSNE\n",
        "\n",
        "from gensim.models import Word2Vec\n",
        "from gensim.models.word2vec import LineSentence"
      ],
      "metadata": {
        "id": "5etF_N6GTUuF"
      },
      "execution_count": null,
      "outputs": []
    },
    {
      "cell_type": "code",
      "source": [
        "keys = ['game', 'gameplay', 'story', 'character', 'pc']\n",
        "\n",
        "embedding_clusters = []\n",
        "word_clusters = []\n",
        "for word in keys:\n",
        "    embeddings = []\n",
        "    words = []\n",
        "    for similar_word, _ in Word2Vec_sg.wv.most_similar(word, topn=10):\n",
        "        words.append(similar_word)\n",
        "        embeddings.append(Word2Vec_sg.wv[similar_word])\n",
        "    embedding_clusters.append(embeddings)\n",
        "    word_clusters.append(words)"
      ],
      "metadata": {
        "id": "354LIJU1Sgt_"
      },
      "execution_count": null,
      "outputs": []
    },
    {
      "cell_type": "code",
      "source": [
        "print(word_clusters)"
      ],
      "metadata": {
        "colab": {
          "base_uri": "https://localhost:8080/"
        },
        "id": "ffC8zWzFTnAh",
        "outputId": "d340cfd4-4aeb-41cc-d507-900973cf35d6"
      },
      "execution_count": null,
      "outputs": [
        {
          "output_type": "stream",
          "name": "stdout",
          "text": [
            "[['PS.', 'replay.', 'Definately', 'Tachyon', 'recommendations.', 'Enjoy!', 'nes', 'rpgs', 'Must', 'end!'], ['visually', 'undeniably', 'responsive,', 'crisp,', 'choppy,', 'satisfying.', 'practice.', 'wonderfully.', 'scale', 'rate.'], ['plot', 'involving.', 'line', 'unravels', 'twists', 'proportions', 'details.', 'continuation', 'engaging', 'emotion'], ['character.', \"character's\", \"characters'\", 'backstory', 'traits', 'weaknesses.', 'handled', 'development.', 'evolves', 'richly'], ['dreamcast.', 'wow', 'period.', 'n64,', 'shiny', 'biased', '98', 'gamecube.', 'recommendations.', 'condition,']]\n"
          ]
        }
      ]
    },
    {
      "cell_type": "markdown",
      "source": [
        "Reducimos dimensionalidad a 2D para poder representar"
      ],
      "metadata": {
        "id": "atfFuwE-Ts4e"
      }
    },
    {
      "cell_type": "code",
      "source": [
        "model_2D = TSNE(perplexity=20, n_components=2, init='pca', n_iter=3500, random_state=69)"
      ],
      "metadata": {
        "id": "DY_xaJdNTsOM"
      },
      "execution_count": null,
      "outputs": []
    },
    {
      "cell_type": "code",
      "source": [
        "embedding_clusters = np.array(embedding_clusters)\n",
        "n, m, k = embedding_clusters.shape"
      ],
      "metadata": {
        "id": "0Obt5_wET0AN"
      },
      "execution_count": null,
      "outputs": []
    },
    {
      "cell_type": "code",
      "source": [
        "embeddings_2d = np.array(model_2D.fit_transform(embedding_clusters.reshape(n * m, k))).reshape(n, m, 2)"
      ],
      "metadata": {
        "colab": {
          "base_uri": "https://localhost:8080/"
        },
        "id": "TZm5dA-zT8XJ",
        "outputId": "c451d4ef-961b-4494-84a8-af0eecdd7422"
      },
      "execution_count": null,
      "outputs": [
        {
          "output_type": "stream",
          "name": "stderr",
          "text": [
            "/usr/local/lib/python3.7/dist-packages/sklearn/manifold/_t_sne.py:793: FutureWarning: The default learning rate in TSNE will change from 200.0 to 'auto' in 1.2.\n",
            "  FutureWarning,\n",
            "/usr/local/lib/python3.7/dist-packages/sklearn/manifold/_t_sne.py:986: FutureWarning: The PCA initialization in TSNE will change to have the standard deviation of PC1 equal to 1e-4 in 1.2. This will ensure better convergence.\n",
            "  FutureWarning,\n"
          ]
        }
      ]
    },
    {
      "cell_type": "markdown",
      "source": [
        "Visualización"
      ],
      "metadata": {
        "id": "RFPMt6xdUBCT"
      }
    },
    {
      "cell_type": "code",
      "source": [
        "import matplotlib\n",
        "import matplotlib.pyplot as plt\n",
        "import matplotlib.cm as cm\n",
        "import numpy as np\n",
        "%matplotlib inline\n",
        "\n",
        "\n",
        "\n",
        "def tsne_plot_similar_words(labels, embedding_clusters, word_clusters, a=0.7):\n",
        "    plt.figure(figsize=(16, 9))\n",
        "    colors = cm.rainbow(np.linspace(0, 1, len(labels)))\n",
        "    for label, embeddings, words, color in zip(labels, embedding_clusters, word_clusters, colors):\n",
        "        x = embeddings[:,0]\n",
        "        y = embeddings[:,1]\n",
        "        plt.scatter(x, y, c=[color], alpha=a, label=label)\n",
        "        for i, word in enumerate(words):\n",
        "            plt.annotate(word, alpha=1, xy=(x[i], y[i]), xytext=(5, 2), \n",
        "                         textcoords='offset points', ha='right', va='bottom', size=8)\n",
        "    plt.legend(loc=4)\n",
        "    plt.grid(True)\n",
        "    plt.title('Representación en 2D de los embeddings de algunos clusters de palabras')\n",
        "    # plt.savefig(\"f/г.png\", format='png', dpi=150, bbox_inches='tight')\n",
        "    plt.show()\n",
        "\n",
        "\n",
        "tsne_plot_similar_words(keys, embeddings_2d, word_clusters)"
      ],
      "metadata": {
        "colab": {
          "base_uri": "https://localhost:8080/",
          "height": 553
        },
        "id": "eH1Q_UClUAET",
        "outputId": "d2a99341-8f7a-428e-f176-c12922644382"
      },
      "execution_count": null,
      "outputs": [
        {
          "output_type": "display_data",
          "data": {
            "text/plain": [
              "<Figure size 1152x648 with 1 Axes>"
            ],
            "image/png": "[encoded data removed]"
          },
          "metadata": {
            "needs_background": "light"
          }
        }
      ]
    },
    {
      "cell_type": "markdown",
      "source": [
        "**Es interesante ver cómo los topics de \"character\" y \"story\" son tan cercanos, mientras que \"PC\" es el más alejado al resto. Todo parece que tiene bastante sentido para mí**"
      ],
      "metadata": {
        "id": "ZViLcqbUgFcj"
      }
    },
    {
      "cell_type": "markdown",
      "source": [
        "# **2.- Etapa de Procesado del Texto**"
      ],
      "metadata": {
        "id": "bzppnAtkhAxo"
      }
    },
    {
      "cell_type": "code",
      "source": [
        "import nltk"
      ],
      "metadata": {
        "id": "UlJ4Bq8NhlyD"
      },
      "execution_count": null,
      "outputs": []
    },
    {
      "cell_type": "code",
      "source": [
        "nltk.download('omw-1.4')"
      ],
      "metadata": {
        "colab": {
          "base_uri": "https://localhost:8080/"
        },
        "id": "N44NQCzxiIeN",
        "outputId": "d9422db0-79b6-4f23-eec0-bb96aaeb04ff"
      },
      "execution_count": null,
      "outputs": [
        {
          "output_type": "stream",
          "name": "stderr",
          "text": [
            "[nltk_data] Downloading package omw-1.4 to /root/nltk_data...\n",
            "[nltk_data]   Unzipping corpora/omw-1.4.zip.\n"
          ]
        },
        {
          "output_type": "execute_result",
          "data": {
            "text/plain": [
              "True"
            ]
          },
          "metadata": {},
          "execution_count": 143
        }
      ]
    },
    {
      "cell_type": "code",
      "source": [
        "nltk.download('punkt')\n",
        "from nltk.tokenize import sent_tokenize"
      ],
      "metadata": {
        "colab": {
          "base_uri": "https://localhost:8080/"
        },
        "id": "OoDXIQ0OhkNd",
        "outputId": "0d4fd370-b39a-4547-b22e-a0700310f546"
      },
      "execution_count": null,
      "outputs": [
        {
          "output_type": "stream",
          "name": "stderr",
          "text": [
            "[nltk_data] Downloading package punkt to /root/nltk_data...\n",
            "[nltk_data]   Unzipping tokenizers/punkt.zip.\n"
          ]
        }
      ]
    },
    {
      "cell_type": "code",
      "source": [
        "from nltk import word_tokenize, TreebankWordTokenizer, RegexpTokenizer"
      ],
      "metadata": {
        "id": "1JkF32-HhhSn"
      },
      "execution_count": null,
      "outputs": []
    },
    {
      "cell_type": "code",
      "source": [
        "nltk.download('stopwords')\n",
        "from nltk.corpus import stopwords"
      ],
      "metadata": {
        "colab": {
          "base_uri": "https://localhost:8080/"
        },
        "id": "OeUGex5Khc1U",
        "outputId": "93141606-a56b-4353-e126-e581ff529938"
      },
      "execution_count": null,
      "outputs": [
        {
          "output_type": "stream",
          "name": "stderr",
          "text": [
            "[nltk_data] Downloading package stopwords to /root/nltk_data...\n",
            "[nltk_data]   Unzipping corpora/stopwords.zip.\n"
          ]
        }
      ]
    },
    {
      "cell_type": "code",
      "execution_count": null,
      "metadata": {
        "id": "uLRajyXG1EJA",
        "colab": {
          "base_uri": "https://localhost:8080/"
        },
        "outputId": "cd05f13c-d12c-46d9-a7cf-45c313699c6c"
      },
      "outputs": [
        {
          "output_type": "stream",
          "name": "stderr",
          "text": [
            "[nltk_data] Downloading package wordnet to /root/nltk_data...\n",
            "[nltk_data]   Unzipping corpora/wordnet.zip.\n"
          ]
        }
      ],
      "source": [
        "nltk.download('wordnet')\n",
        "from nltk.stem import WordNetLemmatizer"
      ]
    },
    {
      "cell_type": "code",
      "execution_count": null,
      "metadata": {
        "id": "4n-zIaoD1EJA"
      },
      "outputs": [],
      "source": [
        "lemmatizer = WordNetLemmatizer()"
      ]
    },
    {
      "cell_type": "code",
      "source": [
        "review=data['reviewText'][3]\n",
        "review"
      ],
      "metadata": {
        "id": "ZizhfH42hFzr",
        "colab": {
          "base_uri": "https://localhost:8080/",
          "height": 53
        },
        "outputId": "4605a104-abff-4fd9-f714-509233454787"
      },
      "execution_count": null,
      "outputs": [
        {
          "output_type": "execute_result",
          "data": {
            "text/plain": [
              "\"This game is so much fun! This is where it all started this game is one of the best mario parties. There's 6 characters who are arguably to this day still the most popular mario characters. There's 50 minigames and 8 fantastic boards!\""
            ],
            "application/vnd.google.colaboratory.intrinsic+json": {
              "type": "string"
            }
          },
          "metadata": {},
          "execution_count": 149
        }
      ]
    },
    {
      "cell_type": "code",
      "source": [
        "!pip install num2words"
      ],
      "metadata": {
        "colab": {
          "base_uri": "https://localhost:8080/"
        },
        "id": "UxUlPAcGiKRl",
        "outputId": "ba090c6f-5361-418c-fed1-49a889bd7f02"
      },
      "execution_count": null,
      "outputs": [
        {
          "output_type": "stream",
          "name": "stdout",
          "text": [
            "Looking in indexes: https://pypi.org/simple, https://us-python.pkg.dev/colab-wheels/public/simple/\n",
            "Collecting num2words\n",
            "  Downloading num2words-0.5.10-py3-none-any.whl (101 kB)\n",
            "\u001b[K     |████████████████████████████████| 101 kB 8.9 MB/s \n",
            "\u001b[?25hRequirement already satisfied: docopt>=0.6.2 in /usr/local/lib/python3.7/dist-packages (from num2words) (0.6.2)\n",
            "Installing collected packages: num2words\n",
            "Successfully installed num2words-0.5.10\n"
          ]
        }
      ]
    },
    {
      "cell_type": "code",
      "source": [
        "import unicodedata\n",
        "from num2words import num2words\n",
        "\n",
        "from nltk import RegexpTokenizer\n",
        "from nltk.corpus import stopwords\n",
        "from nltk.stem import WordNetLemmatizer\n",
        "\n",
        "def nltk_cleaner(text, tokenizer, sw_list, lemmatizer):\n",
        "    clean_text = list()\n",
        "    \n",
        "    # Eliminar acentos, etc\n",
        "    text = unicodedata.normalize('NFKD', text).encode('ascii', 'ignore').decode('utf-8', 'ignore')\n",
        "    \n",
        "    # Separar palabras eliminando signos de puntuación\n",
        "    for word in tokenizer.tokenize(text):\n",
        "        \n",
        "        # Eliminar stop words\n",
        "        if word not in sw_list:\n",
        "            \n",
        "        # Eliminar espacios sobrantes, convertir a minúsculas y lematizar\n",
        "            clean_word = lemmatizer.lemmatize(word).lower().strip()\n",
        "        \n",
        "        # Convertir dígitos a palabras\n",
        "            if clean_word.isdigit():\n",
        "                clean_word = num2words(clean_word, lang='en')\n",
        "\n",
        "            clean_text.append(clean_word)\n",
        "            \n",
        "    return ' '.join(clean_text)"
      ],
      "metadata": {
        "id": "-cTyG58_hAVn"
      },
      "execution_count": null,
      "outputs": []
    },
    {
      "cell_type": "code",
      "source": [
        "tokenizer = RegexpTokenizer(r'\\w+')\n",
        "sw_list = stopwords.words('english')\n",
        "lemmatizer = WordNetLemmatizer()"
      ],
      "metadata": {
        "id": "vk0gejJohClS"
      },
      "execution_count": null,
      "outputs": []
    },
    {
      "cell_type": "code",
      "source": [
        "def data_cleaner(text, tokenizer, sw_list, lemmatizer):\n",
        "  reviews_x = []\n",
        "  for x in text:\n",
        "    nltk_reviews = nltk_cleaner(x, tokenizer, sw_list, lemmatizer)\n",
        "    reviews_x.append(nltk_reviews)\n",
        "  return reviews_x"
      ],
      "metadata": {
        "id": "kVIASSzFhE6d"
      },
      "execution_count": null,
      "outputs": []
    },
    {
      "cell_type": "markdown",
      "source": [
        "**Todo está metido en una sola función: data_cleaner, a la que le pasamos el tokenizador, la lista de stopwords y el lematizador**"
      ],
      "metadata": {
        "id": "BzMOEOlahw6a"
      }
    },
    {
      "cell_type": "code",
      "source": [
        "data_processed = data_cleaner(data['reviewText'], tokenizer, sw_list, lemmatizer)"
      ],
      "metadata": {
        "id": "s-ZLaM2Elnou"
      },
      "execution_count": null,
      "outputs": []
    },
    {
      "cell_type": "code",
      "source": [
        "data['reviewText'][10]"
      ],
      "metadata": {
        "colab": {
          "base_uri": "https://localhost:8080/",
          "height": 53
        },
        "id": "i-c47XrTmLqb",
        "outputId": "5a2911c2-f967-4d38-92d6-ad4fea6215b0"
      },
      "execution_count": null,
      "outputs": [
        {
          "output_type": "execute_result",
          "data": {
            "text/plain": [
              "'If you want to have fun on the go, you have to get Game Boy color!! I had the old gray one before this and this is a MAJOR improvement. The colors add alot of life to the games and its backwards compatible, so you can play all the old games. The size is really convienient and the dandelion color is the best. Buy this system and pick up Game Boy camera with it too!!!'"
            ],
            "application/vnd.google.colaboratory.intrinsic+json": {
              "type": "string"
            }
          },
          "metadata": {},
          "execution_count": 155
        }
      ]
    },
    {
      "cell_type": "code",
      "source": [
        "data_processed[10]"
      ],
      "metadata": {
        "colab": {
          "base_uri": "https://localhost:8080/",
          "height": 35
        },
        "id": "mYAQbLr1mP5W",
        "outputId": "4b6f28b4-10a3-4f3f-b29f-1e5a08cf9f98"
      },
      "execution_count": null,
      "outputs": [
        {
          "output_type": "execute_result",
          "data": {
            "text/plain": [
              "'if want fun go get game boy color i old gray one major improvement the color add alot life game backwards compatible play old game the size really convienient dandelion color best buy system pick game boy camera'"
            ],
            "application/vnd.google.colaboratory.intrinsic+json": {
              "type": "string"
            }
          },
          "metadata": {},
          "execution_count": 156
        }
      ]
    },
    {
      "cell_type": "markdown",
      "source": [
        "**Probamos los resultados con una review cualquiera y nos gusta el resultado**"
      ],
      "metadata": {
        "id": "3AUn_F5_h73v"
      }
    },
    {
      "cell_type": "markdown",
      "source": [
        "# 3er paso  .- Etapa de entrenamiento y testeo de un modelo de análisis de sentimiento"
      ],
      "metadata": {
        "id": "IwdxdKrWmmEv"
      }
    },
    {
      "cell_type": "code",
      "source": [
        "import random\n",
        "import numpy as np\n",
        "import pandas as pd\n",
        "\n",
        "from sklearn.model_selection import train_test_split\n",
        "from sklearn.pipeline import Pipeline\n",
        "from sklearn.feature_extraction.text import CountVectorizer, TfidfVectorizer\n",
        "from sklearn.feature_selection import chi2\n",
        "from sklearn.linear_model import LogisticRegression\n",
        "from sklearn.metrics import accuracy_score, confusion_matrix, classification_report, roc_curve\n",
        "\n",
        "import matplotlib.pyplot as plt"
      ],
      "metadata": {
        "id": "aAEsFGahvjW0"
      },
      "execution_count": null,
      "outputs": []
    },
    {
      "cell_type": "markdown",
      "source": [
        "Separación en train y test"
      ],
      "metadata": {
        "id": "yGG60pfPuS4V"
      }
    },
    {
      "cell_type": "code",
      "source": [
        "X_train, X_test, y_train, y_test = train_test_split(\n",
        "    data_processed,\n",
        "    data['Sentimiento'],\n",
        "    train_size=0.75,\n",
        "    test_size=0.25,\n",
        "    random_state=69,\n",
        "    shuffle=True\n",
        ")"
      ],
      "metadata": {
        "id": "qPudo82EmtLI"
      },
      "execution_count": null,
      "outputs": []
    },
    {
      "cell_type": "code",
      "execution_count": null,
      "metadata": {
        "id": "aVfpqIgUjatN",
        "colab": {
          "base_uri": "https://localhost:8080/"
        },
        "outputId": "ebfd2faf-7c09-47a2-f314-511a7c293d47"
      },
      "outputs": [
        {
          "output_type": "execute_result",
          "data": {
            "text/plain": [
              "['super mario sixty-four best graphic ever shown home console believe i like graphic super mario sixty-four graphic super mario sunshine sure level look great snappy tune match game way easy except bowser mario sixty-four overrated still one best game ever made it isnt best game time pack powerful punch lets hope super mario one hundred and twenty-eight even better harder challenge better graphic level i mean mario sixty-four great sequel harder i dont really want two mario game easy long enough',\n",
              " 'this is one of the most enjoyable games i ve ever had the pleasure to play it is fairly simple not to mention loads of fun too there are only a few hard bosses but worth the playing time one tip always stock up on ammo and use the fountain of rejuvination always throw your drumsticks at enemies for health pickups but you get them later in the game use your crossbows for bosses and pay close attention to the books scattered thru the levels they give you clues all in all if you you want tons of fun then get this game you ll certainly play it over and over again',\n",
              " 'this game fun hard heck it hard i put cheat get level i could skip level i beat i know people beat i i mean guy created game expect u beat i mean even crawl you have to play this game beware hardest game ever',\n",
              " 'the original playstation spyro dragon trilogy best game series especially younger gamers people like play easy game pas time like this game started spyro still one best video game ever made opinion if never played video game want little something different play nice easy one',\n",
              " 'all gamers experence playing game rpg anything else felt fair share flaw one bright redeeming quality make flaw take backseat one positive star ocean the second story one game star ocean appeal least case summed single word combat star ocean combat system probably game notable feature the real time battle system arcade like feel enjoyable change standard fair rpg battle it much fun destory enemy volley special attack ally the skill system also plus well increasing character stats developing usefull non combat skill unfortunately rest star ocean element quite par compared hustle bustle battle graphically star ocean behind time matter turn excluding fmv actually game graphic engine simular one thousand, nine hundred and ninety-eight square enix title often overlooked bashed end saga frontier one favorite yes i serious the fact game us graphical trick empolyed game two year earlier underline fact storywise star ocean two suffers another slightly smaller blow while story generally good seems drag reach second disc exploring fighting story begin unfold characters developed well star ocean compared rpg final fantasy wild arms though game try make obvious effort though use private action system enter location character split talk one one basis discover affect outcome game various way i give developer credit trying though musically star ocean two ups down some tune quite annoying game score without dud however hear battle theme played near end game final boss mainly heavy rock metal variety foregiven soundwise character various soundbites battle cute first become annoying really quickly many time remember claude saying around fifty point battle many admit i sober even flaw star ocean the second story average rpg while i sure i would call classic i would recommend anyone time showed interest genre',\n",
              " 'tribes awesome probably best thing game fact everyone get whatever weapon suit best the game find gun kinda get old dont find get killed trying the stratagy probably incredable thing game sound simple capture flag so much talk team create diversion simply go kamakazi scout this game far one best stratagy game probably best part phrase they great bye',\n",
              " 'still going strong year goofy graphic compared later game still half life great game',\n",
              " 'became part pros brought violence profanity videogames whole new levelvery good sound effectslong enjoyable level misionsa short destructable arsenoalvery useful cheat code despit i usally cheat pretty good musiccons the graphic plain horribleone shot death a bit realistic well unless armorcan save beat leveldefinitly kidsthe game suffers slowdown many thing screenin ninety-eight game jst instant classic despite overshadowed load game especially metal gear solid zelda ocorina time it definitly unknown since gta three vice city overshadowed loooong mile yet i still play game time time in game could even say police let eat gat take squad machine gun blaze flame thrower blow away almighty rocket launcher that propably main reason game got lot heat form contaversy if used gta three vice city game hardly interesting game i sure appreciate joy classic burng took crazy ride way vice city final words speaking vice city that one level game liberty city san anderess last city could san andress next grand theft auto hmmmm peace',\n",
              " 'even though game almost fifteen year old us modified quake engine still one fun best shooter ever made in fact first person shooter game general learn half life one the game world extremely immersive there level end text read score everyone talk without freezing cut scene all make feel le like player playing game indeed hero gordon freeman characters recognize talk come stay put security guard come shoot enemy slowly the story silent protagonist gordon freeman feel like end work black mesa standard super secret facility something go horribly wrong uh the formula simple execute well game copied failed doom three needless say need fight way facility desert chased helicopter everything else would spoiler there level loading screen loading seamless happens downtime half life one simple control optional tutorial level there button jumping crouching sneaking using flashlight need charge shooting secondary shooting machine gun using thing the game always run mode character speed seems fast too fast sometimes sneak button slow but first person shooting there wide variety gun certain joy usefulness even simple pistol useful lesser enemy eight hour game there shotgun machine gun grenade launcher grenade explosive detonate wall sensor explosive harpoon laser guided rocket launcher launch point cursor turn accordingly laser homing missile head crab an amazing array continue get even final level area to swap weapon push six number key press key twice access weapon like shotgun machine gun harpoon you start crowbar good breaking grate destroying box destroying box find item ammo instead finding thing scattered floor shelf desk need bash open box find good stuff you also push pull box nice puzzle solving platforming the enemy diverse one requires think act differently since i know name enemy i fumble the start enemy lesser creature start floor jump two shot pistol take there zombie ish alien take shotgun two easy enough avoid aliens teleport beam electricity cause hide pudgy little alien crawler hopper make shoot distance send small shockwave standard soldier shoot machine gun throw grenade coordinate attack like flanking ceiling hugger yucky red glob ceiling long rope like tongue catch pulled eaten shoot giant alien homing missile there wide variety enemy boss i list the game also shine trick trap throw puzzle challenge keep thinking but game feel like puzzle challenge it seems natural there hidden turret fun making choice take grenade explosive shooting getting shot process running hitting trip wire start general wall sensor explosive push pull box puzzle pushing button hopping hanging box pit conveyer belt using sky cannon destroy wall using turret rail vehicle lot control water puzzle high jump pad there lot variety never thing twice to sum diverse very fun game it sense humor feel like gordon freeman game well crafted immersion puzzles shooting challenge melded together one fantastic game i say often',\n",
              " 'wing commander prophecy without doubt one time personal favorite game pc aside fact gracefully heroically retires christopher blair mark hammil series game expertly crafted piece entertaining stylistic flaw it also improves greatly wing commander iv the price freedom making combat mission longer video cut scene something dogged predecessor greatly prophecy eerie underpinnings work together game live action cinematics make awesome story it also start new generation after defeat kilrathi blair wing commander iii heart tiger confederation finally peace regard feline adversary cult sivar but lie crux matter age old kilrathi prophecy point time darkness descend upon universe kilrathi die bathed blood mighty claw match coming evil time call kn thrak a translation mean either darkness evil and begin destruction confederation survey ship analyzing destroyed kilrathi homeworld kilrah system unknown race there shall come a timewhen one heart kilrathi kilrathi born shall raincleansing fire upon u kn thrak time great darkness shall embrace u we taken tcs midway gargantuan super carrier focus game home base duration it truly magnificent ship size darth vader super star destroyer eight zero meter length it act mobile base terran confederation designed center piece larger armada it meet lance casey character fresh academy son famous tcn pilot we also meet old wing commander alumnus maniac tom wilson take every opportunity belittle casey getting comeuppance worst way numerous member midway crew basically job figure new alien want what apparently want slaughter everyone everything come across great there heap mission great deal fun missions range standard combat air patrols caps seeking destroying capital ship taking freighter search rescue mission one memorable moment game missile launch especially swarms leave twisting contrail streak towards target origin really fine job new fighter design longer blocky slab like look price freedom instead graceful rounded look most ship also joy fly conveying great sense speed maneuverability though le bomber like devastator sid mead two thousand and ten amp blade runner fame hired design alien nephilim phylum fighter capital ship produce true wonder the fighter beautiful aquatic insectile look capital class starship resemble nothing people ever seen they fearsome invoke small amount curiosity player made want find dark enigmatic race mission design seems priority origin expertly crafted bear much resemblance freespace two lack time sensitive nature plagued many x wing amp tie fighter mission lucasarts i also retract title comment freespace two review wing commander prophecy good game the mission take priority cut scene post flight one become annoyingly repetitive two three see see often beyond origin swan song seem movement sequel beyond secret ops add new mission good this fantastic game look play great possessing solid engrossing story superb']"
            ]
          },
          "metadata": {},
          "execution_count": 159
        }
      ],
      "source": [
        "X_train[:10]"
      ]
    },
    {
      "cell_type": "code",
      "execution_count": null,
      "metadata": {
        "id": "qldNWjuUjatN",
        "colab": {
          "base_uri": "https://localhost:8080/"
        },
        "outputId": "7f2b12f3-864a-496b-b0e3-dbf99632b61e"
      },
      "outputs": [
        {
          "output_type": "execute_result",
          "data": {
            "text/plain": [
              "736     1\n",
              "4112    1\n",
              "1943    0\n",
              "1614    1\n",
              "3170    1\n",
              "4910    1\n",
              "1397    1\n",
              "3695    1\n",
              "2198    1\n",
              "4540    1\n",
              "Name: Sentimiento, dtype: int64"
            ]
          },
          "metadata": {},
          "execution_count": 160
        }
      ],
      "source": [
        "y_train[:10]"
      ]
    },
    {
      "cell_type": "code",
      "source": [
        "cv = TfidfVectorizer(\n",
        "    ngram_range=(1, 3),\n",
        "    strip_accents='ascii',\n",
        "    max_df=0.95,\n",
        "    min_df=3,\n",
        "    max_features=3000\n",
        ")\n",
        "cv.fit(X_train)"
      ],
      "metadata": {
        "colab": {
          "base_uri": "https://localhost:8080/"
        },
        "id": "3drN56YHvZrp",
        "outputId": "ea76e385-9e7e-404d-a7d7-2112396ff0ed"
      },
      "execution_count": null,
      "outputs": [
        {
          "output_type": "execute_result",
          "data": {
            "text/plain": [
              "TfidfVectorizer(max_df=0.95, max_features=3000, min_df=3, ngram_range=(1, 3),\n",
              "                strip_accents='ascii')"
            ]
          },
          "metadata": {},
          "execution_count": 161
        }
      ]
    },
    {
      "cell_type": "code",
      "source": [
        "X_train_ = cv.transform(X_train)\n",
        "X_test_ = cv.transform(X_test)"
      ],
      "metadata": {
        "id": "JlWNjsOUv5s8"
      },
      "execution_count": null,
      "outputs": []
    },
    {
      "cell_type": "code",
      "source": [
        "c_params = [0.01, 0.05, 0.25, 0.5, 1, 10, 100, 1000, 10000]\n",
        "\n",
        "train_acc = list()\n",
        "test_acc = list()\n",
        "for c in c_params:\n",
        "    lr = LogisticRegression(C=c, solver='lbfgs', max_iter=10000)\n",
        "    lr.fit(X_train_, y_train)\n",
        "    \n",
        "    train_predict = lr.predict(X_train_)\n",
        "    test_predict = lr.predict(X_test_)\n",
        "    \n",
        "    print (\"Accuracy for C={}: {}\".format(c, accuracy_score(y_test, test_predict)))\n",
        "    \n",
        "    train_acc.append(accuracy_score(y_train, train_predict))\n",
        "    test_acc.append(accuracy_score(y_test, test_predict))"
      ],
      "metadata": {
        "colab": {
          "base_uri": "https://localhost:8080/"
        },
        "id": "V_JeioANwHIj",
        "outputId": "20ac8290-177d-46fd-98a5-e6be9298fd88"
      },
      "execution_count": null,
      "outputs": [
        {
          "output_type": "stream",
          "name": "stdout",
          "text": [
            "Accuracy for C=0.01: 0.816\n",
            "Accuracy for C=0.05: 0.816\n",
            "Accuracy for C=0.25: 0.816\n",
            "Accuracy for C=0.5: 0.8184\n",
            "Accuracy for C=1: 0.8328\n",
            "Accuracy for C=10: 0.8608\n",
            "Accuracy for C=100: 0.8424\n",
            "Accuracy for C=1000: 0.836\n",
            "Accuracy for C=10000: 0.8352\n"
          ]
        }
      ]
    },
    {
      "cell_type": "markdown",
      "source": [
        "**C=10 es nuestro mejor accuracy, con un 0.86**"
      ],
      "metadata": {
        "id": "2W6TQKT6iKw7"
      }
    },
    {
      "cell_type": "code",
      "source": [
        "print('Confussion matrix:\\n{}'.format(confusion_matrix(y_test, test_predict)))\n",
        "print('\\nClassification report:\\n{}'.format(classification_report(y_test, test_predict)))\n",
        "print('Accuracy score:{}'.format(accuracy_score(y_test, test_predict)))"
      ],
      "metadata": {
        "colab": {
          "base_uri": "https://localhost:8080/"
        },
        "id": "hOIfIjJLwlfI",
        "outputId": "fa4ab8c9-526b-4a78-c094-7e406ccbae8c"
      },
      "execution_count": null,
      "outputs": [
        {
          "output_type": "stream",
          "name": "stdout",
          "text": [
            "Confussion matrix:\n",
            "[[114 116]\n",
            " [ 90 930]]\n",
            "\n",
            "Classification report:\n",
            "              precision    recall  f1-score   support\n",
            "\n",
            "           0       0.56      0.50      0.53       230\n",
            "           1       0.89      0.91      0.90      1020\n",
            "\n",
            "    accuracy                           0.84      1250\n",
            "   macro avg       0.72      0.70      0.71      1250\n",
            "weighted avg       0.83      0.84      0.83      1250\n",
            "\n",
            "Accuracy score:0.8352\n"
          ]
        }
      ]
    },
    {
      "cell_type": "code",
      "source": [
        "plt.figure(figsize=(12, 8))\n",
        "plt.plot(train_acc, label='train')\n",
        "plt.plot(test_acc, label='test')\n",
        "plt.axvline(np.argmax(test_acc), c='g', ls='--', alpha=0.8)\n",
        "plt.title('Accuracy evolution for different C values')\n",
        "plt.xlabel('C')\n",
        "plt.ylabel('Accuracy')\n",
        "plt.legend()\n",
        "plt.grid()\n",
        "plt.xticks(list(range(len(c_params))), c_params)\n",
        "plt.tight_layout()\n",
        "plt.show()"
      ],
      "metadata": {
        "colab": {
          "base_uri": "https://localhost:8080/",
          "height": 602
        },
        "id": "1ruB4w8pwqFI",
        "outputId": "90817801-5938-43b3-e000-9afe742d29d4"
      },
      "execution_count": null,
      "outputs": [
        {
          "output_type": "stream",
          "name": "stderr",
          "text": [
            "findfont: Font family ['normal'] not found. Falling back to DejaVu Sans.\n"
          ]
        },
        {
          "output_type": "display_data",
          "data": {
            "text/plain": [
              "<Figure size 864x576 with 1 Axes>"
            ],
            "image/png": "[encoded data removed]"
          },
          "metadata": {
            "needs_background": "light"
          }
        }
      ]
    },
    {
      "cell_type": "code",
      "source": [
        "from sklearn.ensemble import GradientBoostingClassifier\n",
        "\n",
        "n_estimators = 32\n",
        "\n",
        "def classify_gboost(X_train, X_test, y_train, y_test):        \n",
        "    clf = GradientBoostingClassifier(n_estimators=n_estimators, learning_rate=1.0, max_depth=1, random_state=42)\n",
        "\n",
        "    clf.fit(X_train, y_train)\n",
        "    \n",
        "    print(\"[{}] Accuracy: train = {}, test = {}\".format(\n",
        "            clf.__class__.__name__,\n",
        "            clf.score(X_train, y_train),\n",
        "            clf.score(X_test, y_test)))\n",
        "    \n",
        "    return clf\n",
        "\n",
        "\n",
        "clf2 = classify_gboost(X_train_, X_test_, y_train, y_test)"
      ],
      "metadata": {
        "colab": {
          "base_uri": "https://localhost:8080/"
        },
        "id": "uv8p0SZIx0Xz",
        "outputId": "c1599d73-ba7b-45df-c7cb-4af062c06a2c"
      },
      "execution_count": null,
      "outputs": [
        {
          "output_type": "stream",
          "name": "stdout",
          "text": [
            "[GradientBoostingClassifier] Accuracy: train = 0.868, test = 0.8176\n"
          ]
        }
      ]
    },
    {
      "cell_type": "markdown",
      "source": [
        "**Ínfimamente mejor que la regresión logística, una diferencia no significativa**"
      ],
      "metadata": {
        "id": "DC31q2GdiicB"
      }
    },
    {
      "cell_type": "markdown",
      "source": [
        "### Con Deep Learning"
      ],
      "metadata": {
        "id": "GF54dKOCkhkU"
      }
    },
    {
      "cell_type": "code",
      "source": [
        "# X_train_aux = X_train_.todense()\n",
        "# X_test_aux = X_test_.todense()\n",
        "\n",
        "# Esto me revienta la RAM"
      ],
      "metadata": {
        "id": "rQAXFH8wmv9u"
      },
      "execution_count": null,
      "outputs": []
    },
    {
      "cell_type": "markdown",
      "source": [
        "**Voy a utilizar la vectorización del TFIDF (las variables \"X_train_\" y \"X_test_\"**"
      ],
      "metadata": {
        "id": "RF6BGOINkGQF"
      }
    },
    {
      "cell_type": "code",
      "source": [
        "X_train_[0]"
      ],
      "metadata": {
        "colab": {
          "base_uri": "https://localhost:8080/"
        },
        "id": "yK234SqMu_Gm",
        "outputId": "61b076a7-29c5-47a8-dafa-a209668e3a11"
      },
      "execution_count": null,
      "outputs": [
        {
          "output_type": "execute_result",
          "data": {
            "text/plain": [
              "<1x3000 sparse matrix of type '<class 'numpy.float64'>'\n",
              "\twith 74 stored elements in Compressed Sparse Row format>"
            ]
          },
          "metadata": {},
          "execution_count": 167
        }
      ]
    },
    {
      "cell_type": "code",
      "source": [
        "X_train_aux=X_train_.toarray()\n",
        "X_test_aux=X_test_.toarray()"
      ],
      "metadata": {
        "id": "xQl1e2oDtL6d"
      },
      "execution_count": null,
      "outputs": []
    },
    {
      "cell_type": "code",
      "source": [
        "from keras.preprocessing import sequence\n",
        "\n",
        "max_words = 3000\n",
        "\n",
        "X_train_lstm = sequence.pad_sequences(X_train_aux, maxlen=max_words)\n",
        "X_test_lstm = sequence.pad_sequences(X_test_aux, maxlen=max_words)"
      ],
      "metadata": {
        "id": "laTs0u4Akf5w"
      },
      "execution_count": null,
      "outputs": []
    },
    {
      "cell_type": "code",
      "execution_count": null,
      "metadata": {
        "id": "tf8h5j-Qy4JM",
        "colab": {
          "base_uri": "https://localhost:8080/"
        },
        "outputId": "9b1c2c33-72fc-4f89-effe-fa67d8e2a3fa"
      },
      "outputs": [
        {
          "output_type": "stream",
          "name": "stdout",
          "text": [
            "Model: \"sequential\"\n",
            "_________________________________________________________________\n",
            " Layer (type)                Output Shape              Param #   \n",
            "=================================================================\n",
            " embedding (Embedding)       (None, 3000, 32)          160000    \n",
            "                                                                 \n",
            " lstm (LSTM)                 (None, 100)               53200     \n",
            "                                                                 \n",
            " dense (Dense)               (None, 1)                 101       \n",
            "                                                                 \n",
            "=================================================================\n",
            "Total params: 213,301\n",
            "Trainable params: 213,301\n",
            "Non-trainable params: 0\n",
            "_________________________________________________________________\n",
            "None\n"
          ]
        }
      ],
      "source": [
        "from keras.models import Sequential\n",
        "from keras.layers import Embedding, LSTM, Dense, Dropout, GRUV2, SimpleRNN\n",
        "\n",
        "vocabulary_size=5000\n",
        "\n",
        "embedding_size = 32\n",
        "model = Sequential()\n",
        "model.add(Embedding(vocabulary_size, embedding_size, input_length=max_words))\n",
        "model.add(LSTM(100))\n",
        "model.add(Dense(1, activation='sigmoid'))\n",
        "\n",
        "print(model.summary())"
      ]
    },
    {
      "cell_type": "code",
      "execution_count": null,
      "metadata": {
        "id": "fiYzO7t8y8cI"
      },
      "outputs": [],
      "source": [
        "model.compile(loss='binary_crossentropy', optimizer='adam', metrics=['accuracy'])"
      ]
    },
    {
      "cell_type": "code",
      "source": [
        "X_train_lstm.shape"
      ],
      "metadata": {
        "colab": {
          "base_uri": "https://localhost:8080/"
        },
        "id": "rDkwuofzt412",
        "outputId": "263f3e77-4b94-401f-cc1e-581242db11d0"
      },
      "execution_count": null,
      "outputs": [
        {
          "output_type": "execute_result",
          "data": {
            "text/plain": [
              "(3750, 3000)"
            ]
          },
          "metadata": {},
          "execution_count": 172
        }
      ]
    },
    {
      "cell_type": "code",
      "source": [
        "y_train.shape"
      ],
      "metadata": {
        "colab": {
          "base_uri": "https://localhost:8080/"
        },
        "id": "jAUeZtTqu7FE",
        "outputId": "1acc3e2b-7064-4868-e5e1-e1aa4c9e59aa"
      },
      "execution_count": null,
      "outputs": [
        {
          "output_type": "execute_result",
          "data": {
            "text/plain": [
              "(3750,)"
            ]
          },
          "metadata": {},
          "execution_count": 173
        }
      ]
    },
    {
      "cell_type": "code",
      "execution_count": null,
      "metadata": {
        "id": "_ENigjgBzA30",
        "colab": {
          "base_uri": "https://localhost:8080/"
        },
        "outputId": "3bc5e7ec-da47-48a8-9ee5-90fe6853fcfd"
      },
      "outputs": [
        {
          "output_type": "stream",
          "name": "stdout",
          "text": [
            "58/58 [==============================] - 15s 140ms/step - loss: 0.4982 - accuracy: 0.8136 - val_loss: 0.6272 - val_accuracy: 0.7344\n"
          ]
        },
        {
          "output_type": "execute_result",
          "data": {
            "text/plain": [
              "<keras.callbacks.History at 0x7f8a303d63d0>"
            ]
          },
          "metadata": {},
          "execution_count": 174
        }
      ],
      "source": [
        "batch_size = 64\n",
        "num_epochs = 1\n",
        "\n",
        "X_valid, y_valid = X_train_lstm[:batch_size], y_train[:batch_size]  # first batch_size samples\n",
        "X_train2, y_train2 = X_train_lstm[batch_size:], y_train[batch_size:]  # rest for training\n",
        "\n",
        "model.fit(X_train2, y_train2,\n",
        "          validation_data=(X_valid, y_valid),\n",
        "          batch_size=batch_size, epochs=num_epochs)"
      ]
    },
    {
      "cell_type": "code",
      "execution_count": null,
      "metadata": {
        "id": "9a1FEXr_zM-7",
        "colab": {
          "base_uri": "https://localhost:8080/"
        },
        "outputId": "9ae6051d-5ae6-48ca-95ce-d0f3909a5c51"
      },
      "outputs": [
        {
          "output_type": "stream",
          "name": "stdout",
          "text": [
            "40/40 [==============================] - 2s 44ms/step - loss: 0.4829 - accuracy: 0.8160\n",
            "Test accuracy: 0.8159999847412109\n"
          ]
        }
      ],
      "source": [
        "scores = model.evaluate(X_test_lstm, y_test, verbose=1)  # returns loss and other metrics specified in model.compile()\n",
        "print(\"Test accuracy:\", scores[1])  # scores[1] should correspond to accuracy if you passed in metrics=['accuracy']"
      ]
    },
    {
      "cell_type": "markdown",
      "source": [
        "**Accuracy levemente menor que en los modelos de machine learning tradicionales. Realmente no vale la pena por todos los recursos que hay que invertir en este modelo. Más al respecto en las conclusiones.**"
      ],
      "metadata": {
        "id": "QjkaifKOiz6B"
      }
    },
    {
      "cell_type": "markdown",
      "source": [
        "# CONCLUSIONES"
      ],
      "metadata": {
        "id": "xpwqjVCX2EBj"
      }
    },
    {
      "cell_type": "markdown",
      "source": [
        "En general, creo que se ha podido completar la práctica de manera satisfactoria. Aparecieron algunas dificultades en el camino, pero pensando un poco y analizando los notebooks de las clases se pudieron resolver en general, aprendiendo en el proceso. \n",
        "\n",
        "Esto fue hasta el momento de implementar Deep Learning. Estaba a punto de abandonar esto y dejarlo en los 2 modelos de ML hasta que por algún motivo se me ocurrió pasar las variables X a arrays (con la función toarray()). Eso, junto con cambiar la variable \"vocabulary_size\" de 300 a 5000 lograron que pueda hacer funcionar mi modelo, pero tengo mis dudas respecto al significado de dichos cambios. Lo que quiero decir es que en esta parte hay varios conceptos que no me quedan muy claros, y lo que hice (si bien fue una decisión razonada) me da la impresión que es \"tocar algo a ver si funciona\".\n",
        "\n",
        "También me di cuenta de que el procesamiento de texto lo hago 2 veces: en la primera parte para hacer el análisis explotatorio,  y luego en la segunda parte con la función \"data_cleaner\". ¿Se podría haber implementado esta función primero y aprovecharla para el primero apartado de análisis exploratorio? \n",
        "\n",
        "Una duda similar me queda en la vectorización/embedding: en un momento hacemos Word2Vec y luego intenté utilizar su salida para entrenar mis modelos de machine learning, pero tuve errores y no supe cómo adaptar la misma solución, así que tomé el camino fácil y utilicé el mismo TFIDF que en la clase y funcionó. Siento como que me falta un poco de manejo de los métodos y sus variables.\n",
        "\n",
        "Como era de esperar, creo que la mayoría de problemas se dieron en la sintaxis de python y el manejo de los arrays. El primer problema en el modelo de DL era que mis X_train_ y X_test_ provenientes del TFIDF eran \"Sparse Matrix\" y esto no es aceptado por el padding. Sin el padding no puedo probar el modelo. Cuando busqué información, encontré que les debía aplicar la función \".todense()\". Esto me trajo más dolores de cabeza porque me explotaba la RAM y se reiniciaba el runtime. Intentar .toarray() fue un \"manotazo de ahogado\" que por suerte me funcionó.\n",
        "\n",
        "Una lástima que este último modelo, al ser más complejo, haya dado peores resultados, pero hay varias cosas que se pueden probar: cambiar hiperparámetros (como el learning rate), cambiar vocabulary_size o max_words del padding (pero no sé bien el efecto/significado de estos parámetros) y el número de épocas. Uno pensaría que esto último tiene mucho que ver, ya que esto es DL y toma bastante tiempo, pero hice la prueba con 5 épocas y el accuracy no varió, lo cual me desilusionó mucho 😵"
      ],
      "metadata": {
        "id": "aRfDtcQojgR3"
      }
    },
    {
      "cell_type": "markdown",
      "source": [
        "En fin, traté de incluir una buena cantidad de comentarios para plasmar mi proceso cognitivo al momento de realizar las cosas. Espero que ayude a interpretar mejor qué hago y por qué."
      ],
      "metadata": {
        "id": "60G52ovxnUkZ"
      }
    }
  ]
}